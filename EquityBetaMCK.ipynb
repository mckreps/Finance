{
 "cells": [
  {
   "cell_type": "code",
   "execution_count": 1,
   "id": "3852f2c4",
   "metadata": {},
   "outputs": [],
   "source": [
    "import pandas as pd \n",
    "import yfinance as yf\n",
    "import datetime\n",
    "import numpy as np\n",
    "import bs4 as bs\n",
    "import requests\n",
    "import matplotlib.pyplot as plt\n",
    "from bs4 import BeautifulSoup\n",
    "from urllib.request import urlopen\n",
    "from urllib.request import urlopen\n",
    "import pandas as pd\n",
    "import numpy as np\n",
    "import time\n",
    "import re\n",
    "from sklearn.linear_model import LinearRegression\n",
    "import statsmodels.api as sm\n",
    "from statsmodels.formula.api import ols\n",
    "import statsmodels.api as sm\n",
    "import statsmodels.formula.api as smf\n"
   ]
  },
  {
   "cell_type": "code",
   "execution_count": 2,
   "id": "ef3055e3",
   "metadata": {},
   "outputs": [
    {
     "name": "stdout",
     "output_type": "stream",
     "text": [
      "Please enter ticker of firm to analyze: NVDA\n",
      "Please enter start date to analyze in format \"YYYY-MM-DD\": 2010-12-31\n",
      "Please enter end date to analyze in format \"YYYY-MM-DD\": 2020-12-31\n",
      "Please enter frequency of returns to analyze (i.e.,  1d, 5d, 1wk, 1mo, 3mo: 1mo\n",
      "Please input debt structure: constant debt or constant D/Econst\n",
      "Please input the risk free rate.05\n",
      "Please input the market return rate.095\n"
     ]
    }
   ],
   "source": [
    "symbol = input('Please enter ticker of firm to analyze: ')\n",
    "start = input('Please enter start date to analyze in format \"YYYY-MM-DD\": ')\n",
    "end = input('Please enter end date to analyze in format \"YYYY-MM-DD\": ')\n",
    "freq = input('Please enter frequency of returns to analyze (i.e.,  1d, 5d, 1wk, 1mo, 3mo: ')\n",
    "debt_structure= input('Please input debt structure: constant debt or constant D/E')\n",
    "riskfree= input('Please input the risk free rate')\n",
    "marketreturn=input('Please input the market return rate')\n",
    "tax_rate= 0.21\n",
    "#need exception h}andling if there are nans"
   ]
  },
  {
   "cell_type": "code",
   "execution_count": 3,
   "id": "408f9fea",
   "metadata": {},
   "outputs": [],
   "source": [
    "riskfree= (float(riskfree))\n",
    "marketreturn= (float(riskfree))"
   ]
  },
  {
   "cell_type": "code",
   "execution_count": 4,
   "id": "50dc3c41",
   "metadata": {},
   "outputs": [
    {
     "name": "stdout",
     "output_type": "stream",
     "text": [
      "[*********************100%***********************]  2 of 2 completed\n"
     ]
    },
    {
     "data": {
      "text/html": [
       "<div>\n",
       "<style scoped>\n",
       "    .dataframe tbody tr th:only-of-type {\n",
       "        vertical-align: middle;\n",
       "    }\n",
       "\n",
       "    .dataframe tbody tr th {\n",
       "        vertical-align: top;\n",
       "    }\n",
       "\n",
       "    .dataframe thead tr th {\n",
       "        text-align: left;\n",
       "    }\n",
       "\n",
       "    .dataframe thead tr:last-of-type th {\n",
       "        text-align: right;\n",
       "    }\n",
       "</style>\n",
       "<table border=\"1\" class=\"dataframe\">\n",
       "  <thead>\n",
       "    <tr>\n",
       "      <th></th>\n",
       "      <th colspan=\"2\" halign=\"left\">Adj Close</th>\n",
       "      <th colspan=\"2\" halign=\"left\">Close</th>\n",
       "      <th colspan=\"2\" halign=\"left\">High</th>\n",
       "      <th colspan=\"2\" halign=\"left\">Low</th>\n",
       "      <th colspan=\"2\" halign=\"left\">Open</th>\n",
       "      <th colspan=\"2\" halign=\"left\">Volume</th>\n",
       "    </tr>\n",
       "    <tr>\n",
       "      <th></th>\n",
       "      <th>NVDA</th>\n",
       "      <th>SPY</th>\n",
       "      <th>NVDA</th>\n",
       "      <th>SPY</th>\n",
       "      <th>NVDA</th>\n",
       "      <th>SPY</th>\n",
       "      <th>NVDA</th>\n",
       "      <th>SPY</th>\n",
       "      <th>NVDA</th>\n",
       "      <th>SPY</th>\n",
       "      <th>NVDA</th>\n",
       "      <th>SPY</th>\n",
       "    </tr>\n",
       "    <tr>\n",
       "      <th>Date</th>\n",
       "      <th></th>\n",
       "      <th></th>\n",
       "      <th></th>\n",
       "      <th></th>\n",
       "      <th></th>\n",
       "      <th></th>\n",
       "      <th></th>\n",
       "      <th></th>\n",
       "      <th></th>\n",
       "      <th></th>\n",
       "      <th></th>\n",
       "      <th></th>\n",
       "    </tr>\n",
       "  </thead>\n",
       "  <tbody>\n",
       "    <tr>\n",
       "      <th>2011-01-01</th>\n",
       "      <td>5.493962</td>\n",
       "      <td>104.433495</td>\n",
       "      <td>5.980000</td>\n",
       "      <td>128.679993</td>\n",
       "      <td>6.262500</td>\n",
       "      <td>130.350006</td>\n",
       "      <td>3.855000</td>\n",
       "      <td>125.699997</td>\n",
       "      <td>3.880000</td>\n",
       "      <td>126.709999</td>\n",
       "      <td>3.273688e+09</td>\n",
       "      <td>2.860315e+09</td>\n",
       "    </tr>\n",
       "    <tr>\n",
       "      <th>2011-02-01</th>\n",
       "      <td>5.204565</td>\n",
       "      <td>108.061234</td>\n",
       "      <td>5.665000</td>\n",
       "      <td>133.149994</td>\n",
       "      <td>6.542500</td>\n",
       "      <td>134.690002</td>\n",
       "      <td>5.445000</td>\n",
       "      <td>129.380005</td>\n",
       "      <td>6.032500</td>\n",
       "      <td>129.460007</td>\n",
       "      <td>2.402576e+09</td>\n",
       "      <td>2.820074e+09</td>\n",
       "    </tr>\n",
       "    <tr>\n",
       "      <th>2011-03-01</th>\n",
       "      <td>4.239906</td>\n",
       "      <td>107.606773</td>\n",
       "      <td>4.615000</td>\n",
       "      <td>132.589996</td>\n",
       "      <td>5.747500</td>\n",
       "      <td>133.690002</td>\n",
       "      <td>4.252500</td>\n",
       "      <td>125.279999</td>\n",
       "      <td>5.675000</td>\n",
       "      <td>133.570007</td>\n",
       "      <td>2.759758e+09</td>\n",
       "      <td>4.787459e+09</td>\n",
       "    </tr>\n",
       "    <tr>\n",
       "      <th>2011-03-18</th>\n",
       "      <td>NaN</td>\n",
       "      <td>NaN</td>\n",
       "      <td>NaN</td>\n",
       "      <td>NaN</td>\n",
       "      <td>NaN</td>\n",
       "      <td>NaN</td>\n",
       "      <td>NaN</td>\n",
       "      <td>NaN</td>\n",
       "      <td>NaN</td>\n",
       "      <td>NaN</td>\n",
       "      <td>NaN</td>\n",
       "      <td>NaN</td>\n",
       "    </tr>\n",
       "    <tr>\n",
       "      <th>2011-04-01</th>\n",
       "      <td>4.593614</td>\n",
       "      <td>111.204193</td>\n",
       "      <td>5.000000</td>\n",
       "      <td>136.429993</td>\n",
       "      <td>5.110000</td>\n",
       "      <td>136.570007</td>\n",
       "      <td>4.207500</td>\n",
       "      <td>129.509995</td>\n",
       "      <td>4.675000</td>\n",
       "      <td>133.410004</td>\n",
       "      <td>1.532207e+09</td>\n",
       "      <td>2.812718e+09</td>\n",
       "    </tr>\n",
       "    <tr>\n",
       "      <th>...</th>\n",
       "      <td>...</td>\n",
       "      <td>...</td>\n",
       "      <td>...</td>\n",
       "      <td>...</td>\n",
       "      <td>...</td>\n",
       "      <td>...</td>\n",
       "      <td>...</td>\n",
       "      <td>...</td>\n",
       "      <td>...</td>\n",
       "      <td>...</td>\n",
       "      <td>...</td>\n",
       "      <td>...</td>\n",
       "    </tr>\n",
       "    <tr>\n",
       "      <th>2020-09-18</th>\n",
       "      <td>NaN</td>\n",
       "      <td>NaN</td>\n",
       "      <td>NaN</td>\n",
       "      <td>NaN</td>\n",
       "      <td>NaN</td>\n",
       "      <td>NaN</td>\n",
       "      <td>NaN</td>\n",
       "      <td>NaN</td>\n",
       "      <td>NaN</td>\n",
       "      <td>NaN</td>\n",
       "      <td>NaN</td>\n",
       "      <td>NaN</td>\n",
       "    </tr>\n",
       "    <tr>\n",
       "      <th>2020-10-01</th>\n",
       "      <td>125.208961</td>\n",
       "      <td>322.004059</td>\n",
       "      <td>125.339996</td>\n",
       "      <td>326.540009</td>\n",
       "      <td>143.485001</td>\n",
       "      <td>354.019989</td>\n",
       "      <td>123.000000</td>\n",
       "      <td>322.600006</td>\n",
       "      <td>137.580002</td>\n",
       "      <td>337.690002</td>\n",
       "      <td>8.022356e+08</td>\n",
       "      <td>1.629016e+09</td>\n",
       "    </tr>\n",
       "    <tr>\n",
       "      <th>2020-11-01</th>\n",
       "      <td>133.874878</td>\n",
       "      <td>357.030640</td>\n",
       "      <td>134.014999</td>\n",
       "      <td>362.059998</td>\n",
       "      <td>146.914993</td>\n",
       "      <td>364.380005</td>\n",
       "      <td>123.949997</td>\n",
       "      <td>327.239990</td>\n",
       "      <td>126.577499</td>\n",
       "      <td>330.200012</td>\n",
       "      <td>7.594820e+08</td>\n",
       "      <td>1.535244e+09</td>\n",
       "    </tr>\n",
       "    <tr>\n",
       "      <th>2020-12-01</th>\n",
       "      <td>130.413513</td>\n",
       "      <td>368.686462</td>\n",
       "      <td>130.550003</td>\n",
       "      <td>373.880005</td>\n",
       "      <td>137.312500</td>\n",
       "      <td>378.459991</td>\n",
       "      <td>127.632500</td>\n",
       "      <td>362.029999</td>\n",
       "      <td>134.922501</td>\n",
       "      <td>365.570007</td>\n",
       "      <td>5.120996e+08</td>\n",
       "      <td>1.344542e+09</td>\n",
       "    </tr>\n",
       "    <tr>\n",
       "      <th>2020-12-18</th>\n",
       "      <td>NaN</td>\n",
       "      <td>NaN</td>\n",
       "      <td>NaN</td>\n",
       "      <td>NaN</td>\n",
       "      <td>NaN</td>\n",
       "      <td>NaN</td>\n",
       "      <td>NaN</td>\n",
       "      <td>NaN</td>\n",
       "      <td>NaN</td>\n",
       "      <td>NaN</td>\n",
       "      <td>NaN</td>\n",
       "      <td>NaN</td>\n",
       "    </tr>\n",
       "  </tbody>\n",
       "</table>\n",
       "<p>166 rows × 12 columns</p>\n",
       "</div>"
      ],
      "text/plain": [
       "             Adj Close                   Close                    High  \\\n",
       "                  NVDA         SPY        NVDA         SPY        NVDA   \n",
       "Date                                                                     \n",
       "2011-01-01    5.493962  104.433495    5.980000  128.679993    6.262500   \n",
       "2011-02-01    5.204565  108.061234    5.665000  133.149994    6.542500   \n",
       "2011-03-01    4.239906  107.606773    4.615000  132.589996    5.747500   \n",
       "2011-03-18         NaN         NaN         NaN         NaN         NaN   \n",
       "2011-04-01    4.593614  111.204193    5.000000  136.429993    5.110000   \n",
       "...                ...         ...         ...         ...         ...   \n",
       "2020-09-18         NaN         NaN         NaN         NaN         NaN   \n",
       "2020-10-01  125.208961  322.004059  125.339996  326.540009  143.485001   \n",
       "2020-11-01  133.874878  357.030640  134.014999  362.059998  146.914993   \n",
       "2020-12-01  130.413513  368.686462  130.550003  373.880005  137.312500   \n",
       "2020-12-18         NaN         NaN         NaN         NaN         NaN   \n",
       "\n",
       "                               Low                    Open              \\\n",
       "                   SPY        NVDA         SPY        NVDA         SPY   \n",
       "Date                                                                     \n",
       "2011-01-01  130.350006    3.855000  125.699997    3.880000  126.709999   \n",
       "2011-02-01  134.690002    5.445000  129.380005    6.032500  129.460007   \n",
       "2011-03-01  133.690002    4.252500  125.279999    5.675000  133.570007   \n",
       "2011-03-18         NaN         NaN         NaN         NaN         NaN   \n",
       "2011-04-01  136.570007    4.207500  129.509995    4.675000  133.410004   \n",
       "...                ...         ...         ...         ...         ...   \n",
       "2020-09-18         NaN         NaN         NaN         NaN         NaN   \n",
       "2020-10-01  354.019989  123.000000  322.600006  137.580002  337.690002   \n",
       "2020-11-01  364.380005  123.949997  327.239990  126.577499  330.200012   \n",
       "2020-12-01  378.459991  127.632500  362.029999  134.922501  365.570007   \n",
       "2020-12-18         NaN         NaN         NaN         NaN         NaN   \n",
       "\n",
       "                  Volume                \n",
       "                    NVDA           SPY  \n",
       "Date                                    \n",
       "2011-01-01  3.273688e+09  2.860315e+09  \n",
       "2011-02-01  2.402576e+09  2.820074e+09  \n",
       "2011-03-01  2.759758e+09  4.787459e+09  \n",
       "2011-03-18           NaN           NaN  \n",
       "2011-04-01  1.532207e+09  2.812718e+09  \n",
       "...                  ...           ...  \n",
       "2020-09-18           NaN           NaN  \n",
       "2020-10-01  8.022356e+08  1.629016e+09  \n",
       "2020-11-01  7.594820e+08  1.535244e+09  \n",
       "2020-12-01  5.120996e+08  1.344542e+09  \n",
       "2020-12-18           NaN           NaN  \n",
       "\n",
       "[166 rows x 12 columns]"
      ]
     },
     "execution_count": 4,
     "metadata": {},
     "output_type": "execute_result"
    }
   ],
   "source": [
    "data = yf.download(f'{symbol} SPY',start = start,end=end,interval = freq)\n",
    "data"
   ]
  },
  {
   "cell_type": "code",
   "execution_count": 5,
   "id": "a185238d",
   "metadata": {},
   "outputs": [
    {
     "data": {
      "text/html": [
       "<div>\n",
       "<style scoped>\n",
       "    .dataframe tbody tr th:only-of-type {\n",
       "        vertical-align: middle;\n",
       "    }\n",
       "\n",
       "    .dataframe tbody tr th {\n",
       "        vertical-align: top;\n",
       "    }\n",
       "\n",
       "    .dataframe thead th {\n",
       "        text-align: right;\n",
       "    }\n",
       "</style>\n",
       "<table border=\"1\" class=\"dataframe\">\n",
       "  <thead>\n",
       "    <tr style=\"text-align: right;\">\n",
       "      <th></th>\n",
       "      <th>NVDA</th>\n",
       "      <th>SPY</th>\n",
       "    </tr>\n",
       "    <tr>\n",
       "      <th>Date</th>\n",
       "      <th></th>\n",
       "      <th></th>\n",
       "    </tr>\n",
       "  </thead>\n",
       "  <tbody>\n",
       "    <tr>\n",
       "      <th>2011-01-01</th>\n",
       "      <td>5.980</td>\n",
       "      <td>128.679993</td>\n",
       "    </tr>\n",
       "    <tr>\n",
       "      <th>2011-02-01</th>\n",
       "      <td>5.665</td>\n",
       "      <td>133.149994</td>\n",
       "    </tr>\n",
       "    <tr>\n",
       "      <th>2011-03-01</th>\n",
       "      <td>4.615</td>\n",
       "      <td>132.589996</td>\n",
       "    </tr>\n",
       "    <tr>\n",
       "      <th>2011-04-01</th>\n",
       "      <td>5.000</td>\n",
       "      <td>136.429993</td>\n",
       "    </tr>\n",
       "    <tr>\n",
       "      <th>2011-05-01</th>\n",
       "      <td>5.010</td>\n",
       "      <td>134.899994</td>\n",
       "    </tr>\n",
       "  </tbody>\n",
       "</table>\n",
       "</div>"
      ],
      "text/plain": [
       "             NVDA         SPY\n",
       "Date                         \n",
       "2011-01-01  5.980  128.679993\n",
       "2011-02-01  5.665  133.149994\n",
       "2011-03-01  4.615  132.589996\n",
       "2011-04-01  5.000  136.429993\n",
       "2011-05-01  5.010  134.899994"
      ]
     },
     "execution_count": 5,
     "metadata": {},
     "output_type": "execute_result"
    }
   ],
   "source": [
    "data.dropna(axis=0,how='all',inplace=True)\n",
    "data = pd.DataFrame(data)\n",
    "data = pd.DataFrame(data['Close'])\n",
    "data[:5]"
   ]
  },
  {
   "cell_type": "code",
   "execution_count": 6,
   "id": "a8180d2b",
   "metadata": {
    "scrolled": true
   },
   "outputs": [],
   "source": [
    "payload=pd.read_html('https://en.wikipedia.org/wiki/List_of_S%26P_500_companies')\n",
    "first_table = payload[0]\n",
    "second_table = payload[1]\n",
    "df = first_table"
   ]
  },
  {
   "cell_type": "code",
   "execution_count": 7,
   "id": "b4fd9125",
   "metadata": {
    "scrolled": true
   },
   "outputs": [
    {
     "data": {
      "text/html": [
       "<div>\n",
       "<style scoped>\n",
       "    .dataframe tbody tr th:only-of-type {\n",
       "        vertical-align: middle;\n",
       "    }\n",
       "\n",
       "    .dataframe tbody tr th {\n",
       "        vertical-align: top;\n",
       "    }\n",
       "\n",
       "    .dataframe thead th {\n",
       "        text-align: right;\n",
       "    }\n",
       "</style>\n",
       "<table border=\"1\" class=\"dataframe\">\n",
       "  <thead>\n",
       "    <tr style=\"text-align: right;\">\n",
       "      <th></th>\n",
       "      <th>Symbol</th>\n",
       "      <th>Security</th>\n",
       "      <th>SEC filings</th>\n",
       "      <th>GICS Sector</th>\n",
       "      <th>GICS Sub-Industry</th>\n",
       "      <th>Headquarters Location</th>\n",
       "      <th>Date first added</th>\n",
       "      <th>CIK</th>\n",
       "      <th>Founded</th>\n",
       "    </tr>\n",
       "  </thead>\n",
       "  <tbody>\n",
       "    <tr>\n",
       "      <th>0</th>\n",
       "      <td>MMM</td>\n",
       "      <td>3M</td>\n",
       "      <td>reports</td>\n",
       "      <td>Industrials</td>\n",
       "      <td>Industrial Conglomerates</td>\n",
       "      <td>Saint Paul, Minnesota</td>\n",
       "      <td>1976-08-09</td>\n",
       "      <td>66740</td>\n",
       "      <td>1902</td>\n",
       "    </tr>\n",
       "    <tr>\n",
       "      <th>1</th>\n",
       "      <td>ABT</td>\n",
       "      <td>Abbott Laboratories</td>\n",
       "      <td>reports</td>\n",
       "      <td>Health Care</td>\n",
       "      <td>Health Care Equipment</td>\n",
       "      <td>North Chicago, Illinois</td>\n",
       "      <td>1964-03-31</td>\n",
       "      <td>1800</td>\n",
       "      <td>1888</td>\n",
       "    </tr>\n",
       "    <tr>\n",
       "      <th>2</th>\n",
       "      <td>ABBV</td>\n",
       "      <td>AbbVie</td>\n",
       "      <td>reports</td>\n",
       "      <td>Health Care</td>\n",
       "      <td>Pharmaceuticals</td>\n",
       "      <td>North Chicago, Illinois</td>\n",
       "      <td>2012-12-31</td>\n",
       "      <td>1551152</td>\n",
       "      <td>2013 (1888)</td>\n",
       "    </tr>\n",
       "    <tr>\n",
       "      <th>3</th>\n",
       "      <td>ABMD</td>\n",
       "      <td>Abiomed</td>\n",
       "      <td>reports</td>\n",
       "      <td>Health Care</td>\n",
       "      <td>Health Care Equipment</td>\n",
       "      <td>Danvers, Massachusetts</td>\n",
       "      <td>2018-05-31</td>\n",
       "      <td>815094</td>\n",
       "      <td>1981</td>\n",
       "    </tr>\n",
       "    <tr>\n",
       "      <th>4</th>\n",
       "      <td>ACN</td>\n",
       "      <td>Accenture</td>\n",
       "      <td>reports</td>\n",
       "      <td>Information Technology</td>\n",
       "      <td>IT Consulting &amp; Other Services</td>\n",
       "      <td>Dublin, Ireland</td>\n",
       "      <td>2011-07-06</td>\n",
       "      <td>1467373</td>\n",
       "      <td>1989</td>\n",
       "    </tr>\n",
       "  </tbody>\n",
       "</table>\n",
       "</div>"
      ],
      "text/plain": [
       "  Symbol             Security SEC filings             GICS Sector  \\\n",
       "0    MMM                   3M     reports             Industrials   \n",
       "1    ABT  Abbott Laboratories     reports             Health Care   \n",
       "2   ABBV               AbbVie     reports             Health Care   \n",
       "3   ABMD              Abiomed     reports             Health Care   \n",
       "4    ACN            Accenture     reports  Information Technology   \n",
       "\n",
       "                GICS Sub-Industry    Headquarters Location Date first added  \\\n",
       "0        Industrial Conglomerates    Saint Paul, Minnesota       1976-08-09   \n",
       "1           Health Care Equipment  North Chicago, Illinois       1964-03-31   \n",
       "2                 Pharmaceuticals  North Chicago, Illinois       2012-12-31   \n",
       "3           Health Care Equipment   Danvers, Massachusetts       2018-05-31   \n",
       "4  IT Consulting & Other Services          Dublin, Ireland       2011-07-06   \n",
       "\n",
       "       CIK      Founded  \n",
       "0    66740         1902  \n",
       "1     1800         1888  \n",
       "2  1551152  2013 (1888)  \n",
       "3   815094         1981  \n",
       "4  1467373         1989  "
      ]
     },
     "execution_count": 7,
     "metadata": {},
     "output_type": "execute_result"
    }
   ],
   "source": [
    "df.head()\n"
   ]
  },
  {
   "cell_type": "code",
   "execution_count": 8,
   "id": "c8860fba",
   "metadata": {},
   "outputs": [
    {
     "data": {
      "text/plain": [
       "'Semiconductors'"
      ]
     },
     "execution_count": 8,
     "metadata": {},
     "output_type": "execute_result"
    }
   ],
   "source": [
    "df2=df[df['Symbol']==symbol]\n",
    "sector=df2['GICS Sub-Industry'].squeeze()\n",
    "sector"
   ]
  },
  {
   "cell_type": "code",
   "execution_count": 9,
   "id": "7330ca21",
   "metadata": {},
   "outputs": [
    {
     "data": {
      "text/html": [
       "<div>\n",
       "<style scoped>\n",
       "    .dataframe tbody tr th:only-of-type {\n",
       "        vertical-align: middle;\n",
       "    }\n",
       "\n",
       "    .dataframe tbody tr th {\n",
       "        vertical-align: top;\n",
       "    }\n",
       "\n",
       "    .dataframe thead th {\n",
       "        text-align: right;\n",
       "    }\n",
       "</style>\n",
       "<table border=\"1\" class=\"dataframe\">\n",
       "  <thead>\n",
       "    <tr style=\"text-align: right;\">\n",
       "      <th></th>\n",
       "      <th>Symbol</th>\n",
       "      <th>Security</th>\n",
       "      <th>SEC filings</th>\n",
       "      <th>GICS Sector</th>\n",
       "      <th>GICS Sub-Industry</th>\n",
       "      <th>Headquarters Location</th>\n",
       "      <th>Date first added</th>\n",
       "      <th>CIK</th>\n",
       "      <th>Founded</th>\n",
       "    </tr>\n",
       "  </thead>\n",
       "  <tbody>\n",
       "    <tr>\n",
       "      <th>324</th>\n",
       "      <td>MPWR</td>\n",
       "      <td>Monolithic Power Systems</td>\n",
       "      <td>reports</td>\n",
       "      <td>Information Technology</td>\n",
       "      <td>Semiconductors</td>\n",
       "      <td>Kirkland, Washington</td>\n",
       "      <td>2021-02-12</td>\n",
       "      <td>1280452</td>\n",
       "      <td>1997</td>\n",
       "    </tr>\n",
       "    <tr>\n",
       "      <th>317</th>\n",
       "      <td>MU</td>\n",
       "      <td>Micron Technology</td>\n",
       "      <td>reports</td>\n",
       "      <td>Information Technology</td>\n",
       "      <td>Semiconductors</td>\n",
       "      <td>Boise, Idaho</td>\n",
       "      <td>1994-09-27</td>\n",
       "      <td>723125</td>\n",
       "      <td>1978</td>\n",
       "    </tr>\n",
       "    <tr>\n",
       "      <th>390</th>\n",
       "      <td>QRVO</td>\n",
       "      <td>Qorvo</td>\n",
       "      <td>reports</td>\n",
       "      <td>Information Technology</td>\n",
       "      <td>Semiconductors</td>\n",
       "      <td>Greensboro, North Carolina</td>\n",
       "      <td>2015-06-11</td>\n",
       "      <td>1604778</td>\n",
       "      <td>2015</td>\n",
       "    </tr>\n",
       "    <tr>\n",
       "      <th>349</th>\n",
       "      <td>NVDA</td>\n",
       "      <td>Nvidia</td>\n",
       "      <td>reports</td>\n",
       "      <td>Information Technology</td>\n",
       "      <td>Semiconductors</td>\n",
       "      <td>Santa Clara, California</td>\n",
       "      <td>2001-11-30</td>\n",
       "      <td>1045810</td>\n",
       "      <td>1993</td>\n",
       "    </tr>\n",
       "    <tr>\n",
       "      <th>324</th>\n",
       "      <td>MPWR</td>\n",
       "      <td>Monolithic Power Systems</td>\n",
       "      <td>reports</td>\n",
       "      <td>Information Technology</td>\n",
       "      <td>Semiconductors</td>\n",
       "      <td>Kirkland, Washington</td>\n",
       "      <td>2021-02-12</td>\n",
       "      <td>1280452</td>\n",
       "      <td>1997</td>\n",
       "    </tr>\n",
       "  </tbody>\n",
       "</table>\n",
       "</div>"
      ],
      "text/plain": [
       "    Symbol                  Security SEC filings             GICS Sector  \\\n",
       "324   MPWR  Monolithic Power Systems     reports  Information Technology   \n",
       "317     MU         Micron Technology     reports  Information Technology   \n",
       "390   QRVO                     Qorvo     reports  Information Technology   \n",
       "349   NVDA                    Nvidia     reports  Information Technology   \n",
       "324   MPWR  Monolithic Power Systems     reports  Information Technology   \n",
       "\n",
       "    GICS Sub-Industry       Headquarters Location Date first added      CIK  \\\n",
       "324    Semiconductors        Kirkland, Washington       2021-02-12  1280452   \n",
       "317    Semiconductors                Boise, Idaho       1994-09-27   723125   \n",
       "390    Semiconductors  Greensboro, North Carolina       2015-06-11  1604778   \n",
       "349    Semiconductors     Santa Clara, California       2001-11-30  1045810   \n",
       "324    Semiconductors        Kirkland, Washington       2021-02-12  1280452   \n",
       "\n",
       "    Founded  \n",
       "324    1997  \n",
       "317    1978  \n",
       "390    2015  \n",
       "349    1993  \n",
       "324    1997  "
      ]
     },
     "execution_count": 9,
     "metadata": {},
     "output_type": "execute_result"
    }
   ],
   "source": [
    "df3=df[df['GICS Sub-Industry']==sector].sample(n=5,replace=True)\n",
    "df3"
   ]
  },
  {
   "cell_type": "code",
   "execution_count": 10,
   "id": "0e737854",
   "metadata": {},
   "outputs": [
    {
     "data": {
      "text/plain": [
       "'MU'"
      ]
     },
     "execution_count": 10,
     "metadata": {},
     "output_type": "execute_result"
    }
   ],
   "source": [
    "comp2=df3['Symbol'][1:2].squeeze()\n",
    "comp2"
   ]
  },
  {
   "cell_type": "code",
   "execution_count": 11,
   "id": "eaf945c6",
   "metadata": {},
   "outputs": [
    {
     "data": {
      "text/plain": [
       "'QRVO'"
      ]
     },
     "execution_count": 11,
     "metadata": {},
     "output_type": "execute_result"
    }
   ],
   "source": [
    "comp3=df3['Symbol'][2:3].squeeze()\n",
    "comp3"
   ]
  },
  {
   "cell_type": "code",
   "execution_count": 12,
   "id": "163f6e2b",
   "metadata": {},
   "outputs": [
    {
     "data": {
      "text/plain": [
       "'NVDA'"
      ]
     },
     "execution_count": 12,
     "metadata": {},
     "output_type": "execute_result"
    }
   ],
   "source": [
    "comp4=df3['Symbol'][3:4].squeeze()\n",
    "comp4"
   ]
  },
  {
   "cell_type": "code",
   "execution_count": 13,
   "id": "664069b5",
   "metadata": {},
   "outputs": [
    {
     "data": {
      "text/plain": [
       "0.7043153969099627"
      ]
     },
     "execution_count": 13,
     "metadata": {},
     "output_type": "execute_result"
    }
   ],
   "source": [
    "#DEBT EQUITY RATIO\n",
    "FMP_API = \"2a3b1c3b6cd7c197fd1e956a00d0e1b1\"\n",
    "\n",
    "bs    = \"balance-sheet-statement\"\n",
    "tickers = [symbol]\n",
    "     \n",
    "bs_list = []\n",
    "     \n",
    "for ticker in tickers:\n",
    "    url = \"https://financialmodelingprep.com/api/v3/\" + bs + \"/\" + ticker + \"?limit=120&apikey=\" + FMP_API\n",
    "    bs = pd.read_json(url)\n",
    "    bs.set_index('date', inplace=True)\n",
    "     \n",
    "    bs[symbol] = bs.totalLiabilities / bs.totalStockholdersEquity\n",
    "    bs_list.append(bs[ticker])\n",
    "     \n",
    "#df_final = pd.concat(df_list, axis=1)\n",
    "#print(df_final)\n",
    "deratio=bs[symbol][0]\n",
    "deratio"
   ]
  },
  {
   "cell_type": "code",
   "execution_count": 14,
   "id": "94470ee6",
   "metadata": {},
   "outputs": [
    {
     "data": {
      "text/plain": [
       "0.3395169917829422"
      ]
     },
     "execution_count": 14,
     "metadata": {},
     "output_type": "execute_result"
    }
   ],
   "source": [
    "#DEBT EQUITY RATIO\n",
    "FMP_API = \"2a3b1c3b6cd7c197fd1e956a00d0e1b1\"\n",
    "\n",
    "bs    = \"balance-sheet-statement\"\n",
    "tickers = [comp2]\n",
    "     \n",
    "bs_list = []\n",
    "     \n",
    "for ticker in tickers:\n",
    "    url = \"https://financialmodelingprep.com/api/v3/\" + bs + \"/\" + comp2 + \"?limit=120&apikey=\" + FMP_API\n",
    "    bs = pd.read_json(url)\n",
    "    bs.set_index('date', inplace=True)\n",
    "     \n",
    "    bs[comp2] = bs.totalLiabilities / bs.totalStockholdersEquity\n",
    "    bs_list.append(bs[ticker])\n",
    "     \n",
    "#df_final = pd.concat(df_list, axis=1)\n",
    "#print(df_final)\n",
    "deratio2=bs[comp2][0]\n",
    "deratio2"
   ]
  },
  {
   "cell_type": "code",
   "execution_count": 15,
   "id": "6bc5ef5f",
   "metadata": {},
   "outputs": [
    {
     "data": {
      "text/plain": [
       "0.5599064678658797"
      ]
     },
     "execution_count": 15,
     "metadata": {},
     "output_type": "execute_result"
    }
   ],
   "source": [
    "#DEBT EQUITY RATIO\n",
    "FMP_API = \"2a3b1c3b6cd7c197fd1e956a00d0e1b1\"\n",
    "\n",
    "bs    = \"balance-sheet-statement\"\n",
    "tickers = [comp3]\n",
    "     \n",
    "bs_list = []\n",
    "     \n",
    "for ticker in tickers:\n",
    "    url = \"https://financialmodelingprep.com/api/v3/\" + bs + \"/\" + comp3 + \"?limit=120&apikey=\" + FMP_API\n",
    "    bs = pd.read_json(url)\n",
    "    bs.set_index('date', inplace=True)\n",
    "     \n",
    "    bs[comp3] = bs.totalLiabilities / bs.totalStockholdersEquity\n",
    "    bs_list.append(bs[comp3])\n",
    "     \n",
    "#df_final = pd.concat(df_list, axis=1)\n",
    "#print(df_final)\n",
    "deratio3=bs[comp3][0]\n",
    "deratio3"
   ]
  },
  {
   "cell_type": "code",
   "execution_count": 16,
   "id": "97e9c5b4",
   "metadata": {},
   "outputs": [
    {
     "data": {
      "text/plain": [
       "0.7043153969099627"
      ]
     },
     "execution_count": 16,
     "metadata": {},
     "output_type": "execute_result"
    }
   ],
   "source": [
    "#DEBT EQUITY RATIO\n",
    "FMP_API = \"2a3b1c3b6cd7c197fd1e956a00d0e1b1\"\n",
    "\n",
    "bs    = \"balance-sheet-statement\"\n",
    "tickers = [comp4]\n",
    "     \n",
    "bs_list = []\n",
    "     \n",
    "for ticker in tickers:\n",
    "    url = \"https://financialmodelingprep.com/api/v3/\" + bs + \"/\" + comp4 + \"?limit=120&apikey=\" + FMP_API\n",
    "    bs = pd.read_json(url)\n",
    "    bs.set_index('date', inplace=True)\n",
    "     \n",
    "    bs[comp4] = bs.totalLiabilities / bs.totalStockholdersEquity\n",
    "    bs_list.append(bs[comp4])\n",
    "     \n",
    "#df_final = pd.concat(df_list, axis=1)\n",
    "#print(df_final)\n",
    "deratio4=bs[comp4][0]\n",
    "deratio4"
   ]
  },
  {
   "cell_type": "code",
   "execution_count": 17,
   "id": "7b0a96ef",
   "metadata": {},
   "outputs": [],
   "source": [
    "#Automatically determine comparable companies based upon SIC code, GICS code, or any other methodology\n",
    "#(or, at a minimum, query the user for a set of comparable tickers, but make sure you do exception handling if\n",
    "#the dates/data are unavailable for chosen tickers). \n"
   ]
  },
  {
   "cell_type": "code",
   "execution_count": 18,
   "id": "abeec9d7",
   "metadata": {},
   "outputs": [
    {
     "name": "stdout",
     "output_type": "stream",
     "text": [
      "The comparative debt equity ratio is is  0.53457962\n"
     ]
    }
   ],
   "source": [
    "compde_list = [deratio2, deratio3, deratio4]\n",
    "compde= sum(compde_list)/len(compde_list)\n",
    "print(\"The comparative debt equity ratio is is \", round(compde,8))"
   ]
  },
  {
   "cell_type": "code",
   "execution_count": 19,
   "id": "d8704941",
   "metadata": {},
   "outputs": [],
   "source": [
    "#collect  effective tax rate (21%), D/E ratio()#pull, equity beta (run regression)"
   ]
  },
  {
   "cell_type": "code",
   "execution_count": 20,
   "id": "9951538d",
   "metadata": {},
   "outputs": [],
   "source": [
    "#for each comparable (and the target company), you will have to query the user as to which capital structure\n",
    "#assumption applies (e.g., constant debt or constant D/E)."
   ]
  },
  {
   "cell_type": "code",
   "execution_count": 21,
   "id": "d28f447d",
   "metadata": {},
   "outputs": [],
   "source": [
    "#Run the unlever/relever process and determine the equity beta and report to the user. "
   ]
  },
  {
   "cell_type": "code",
   "execution_count": null,
   "id": "469b15bf",
   "metadata": {},
   "outputs": [],
   "source": []
  },
  {
   "cell_type": "code",
   "execution_count": 22,
   "id": "48be678e",
   "metadata": {},
   "outputs": [],
   "source": [
    "#calculate the monthly return\n",
    "stock_ret = data[{symbol}].pct_change()\n",
    "mark_ret = data['SPY'].pct_change()"
   ]
  },
  {
   "cell_type": "code",
   "execution_count": 23,
   "id": "f13971bc",
   "metadata": {},
   "outputs": [],
   "source": [
    "data['SPY'] = data['SPY']/100"
   ]
  },
  {
   "cell_type": "code",
   "execution_count": 24,
   "id": "24e1c0c3",
   "metadata": {},
   "outputs": [],
   "source": [
    "data['Stock Returns'] = stock_ret\n",
    "data['Market Returns'] = mark_ret"
   ]
  },
  {
   "cell_type": "code",
   "execution_count": 25,
   "id": "24fb0fb5",
   "metadata": {},
   "outputs": [],
   "source": [
    "data['Stock Returns'] = data['Stock Returns'].apply(lambda x: float(x))\n",
    "data['Market Returns'] = data['Market Returns'].apply(lambda x: float(x))\n",
    "data['SPY'] = data['SPY'].apply(lambda x: float(x))"
   ]
  },
  {
   "cell_type": "code",
   "execution_count": 26,
   "id": "1910bf6d",
   "metadata": {},
   "outputs": [
    {
     "data": {
      "text/html": [
       "<div>\n",
       "<style scoped>\n",
       "    .dataframe tbody tr th:only-of-type {\n",
       "        vertical-align: middle;\n",
       "    }\n",
       "\n",
       "    .dataframe tbody tr th {\n",
       "        vertical-align: top;\n",
       "    }\n",
       "\n",
       "    .dataframe thead th {\n",
       "        text-align: right;\n",
       "    }\n",
       "</style>\n",
       "<table border=\"1\" class=\"dataframe\">\n",
       "  <thead>\n",
       "    <tr style=\"text-align: right;\">\n",
       "      <th></th>\n",
       "      <th>NVDA</th>\n",
       "      <th>SPY</th>\n",
       "      <th>Stock Returns</th>\n",
       "      <th>Market Returns</th>\n",
       "      <th>Stock Premia</th>\n",
       "      <th>Market Premia</th>\n",
       "    </tr>\n",
       "    <tr>\n",
       "      <th>Date</th>\n",
       "      <th></th>\n",
       "      <th></th>\n",
       "      <th></th>\n",
       "      <th></th>\n",
       "      <th></th>\n",
       "      <th></th>\n",
       "    </tr>\n",
       "  </thead>\n",
       "  <tbody>\n",
       "    <tr>\n",
       "      <th>2011-01-01</th>\n",
       "      <td>5.980</td>\n",
       "      <td>1.2868</td>\n",
       "      <td>NaN</td>\n",
       "      <td>NaN</td>\n",
       "      <td>NaN</td>\n",
       "      <td>NaN</td>\n",
       "    </tr>\n",
       "    <tr>\n",
       "      <th>2011-02-01</th>\n",
       "      <td>5.665</td>\n",
       "      <td>1.3315</td>\n",
       "      <td>-0.052676</td>\n",
       "      <td>0.034737</td>\n",
       "      <td>-1.384176</td>\n",
       "      <td>-1.296763</td>\n",
       "    </tr>\n",
       "    <tr>\n",
       "      <th>2011-03-01</th>\n",
       "      <td>4.615</td>\n",
       "      <td>1.3259</td>\n",
       "      <td>-0.185349</td>\n",
       "      <td>-0.004206</td>\n",
       "      <td>-1.511249</td>\n",
       "      <td>-1.330106</td>\n",
       "    </tr>\n",
       "    <tr>\n",
       "      <th>2011-04-01</th>\n",
       "      <td>5.000</td>\n",
       "      <td>1.3643</td>\n",
       "      <td>0.083424</td>\n",
       "      <td>0.028961</td>\n",
       "      <td>-1.280876</td>\n",
       "      <td>-1.335338</td>\n",
       "    </tr>\n",
       "    <tr>\n",
       "      <th>2011-05-01</th>\n",
       "      <td>5.010</td>\n",
       "      <td>1.3490</td>\n",
       "      <td>0.002000</td>\n",
       "      <td>-0.011215</td>\n",
       "      <td>-1.347000</td>\n",
       "      <td>-1.360214</td>\n",
       "    </tr>\n",
       "  </tbody>\n",
       "</table>\n",
       "</div>"
      ],
      "text/plain": [
       "             NVDA     SPY  Stock Returns  Market Returns  Stock Premia  \\\n",
       "Date                                                                     \n",
       "2011-01-01  5.980  1.2868            NaN             NaN           NaN   \n",
       "2011-02-01  5.665  1.3315      -0.052676        0.034737     -1.384176   \n",
       "2011-03-01  4.615  1.3259      -0.185349       -0.004206     -1.511249   \n",
       "2011-04-01  5.000  1.3643       0.083424        0.028961     -1.280876   \n",
       "2011-05-01  5.010  1.3490       0.002000       -0.011215     -1.347000   \n",
       "\n",
       "            Market Premia  \n",
       "Date                       \n",
       "2011-01-01            NaN  \n",
       "2011-02-01      -1.296763  \n",
       "2011-03-01      -1.330106  \n",
       "2011-04-01      -1.335338  \n",
       "2011-05-01      -1.360214  "
      ]
     },
     "execution_count": 26,
     "metadata": {},
     "output_type": "execute_result"
    }
   ],
   "source": [
    "#calculate risk premium of the stock and the market risk premium.\n",
    "data['Stock Premia'] = data['Stock Returns'] - data['SPY']\n",
    "data['Market Premia'] = data['Market Returns'] - data['SPY']\n",
    "data.iloc[0:5]"
   ]
  },
  {
   "cell_type": "code",
   "execution_count": 27,
   "id": "c63292ed",
   "metadata": {},
   "outputs": [
    {
     "data": {
      "text/plain": [
       "<matplotlib.collections.PathCollection at 0x7fcaffa2e280>"
      ]
     },
     "execution_count": 27,
     "metadata": {},
     "output_type": "execute_result"
    },
    {
     "data": {
      "image/png": "[encoded data removed]",
      "text/plain": [
       "<Figure size 432x288 with 1 Axes>"
      ]
     },
     "metadata": {
      "needs_background": "light"
     },
     "output_type": "display_data"
    }
   ],
   "source": [
    "#scatter plot for risk premium of the stock and the market risk premium.\n",
    "x = np.array(data['Market Premia'][1:])\n",
    "y = np.array(data['Stock Premia'][1:])\n",
    "plt.scatter(x,y)"
   ]
  },
  {
   "cell_type": "code",
   "execution_count": 28,
   "id": "743140cd",
   "metadata": {},
   "outputs": [
    {
     "name": "stdout",
     "output_type": "stream",
     "text": [
      "                            OLS Regression Results                            \n",
      "==============================================================================\n",
      "Dep. Variable:                      y   R-squared:                       0.976\n",
      "Model:                            OLS   Adj. R-squared:                  0.976\n",
      "Method:                 Least Squares   F-statistic:                     4840.\n",
      "Date:                Tue, 09 Nov 2021   Prob (F-statistic):           4.90e-97\n",
      "Time:                        15:54:24   Log-Likelihood:                 112.05\n",
      "No. Observations:                 119   AIC:                            -220.1\n",
      "Df Residuals:                     117   BIC:                            -214.5\n",
      "Df Model:                           1                                         \n",
      "Covariance Type:            nonrobust                                         \n",
      "==============================================================================\n",
      "                 coef    std err          t      P>|t|      [0.025      0.975]\n",
      "------------------------------------------------------------------------------\n",
      "Intercept     -0.0395      0.032     -1.252      0.213      -0.102       0.023\n",
      "x              0.9716      0.014     69.571      0.000       0.944       0.999\n",
      "==============================================================================\n",
      "Omnibus:                        9.567   Durbin-Watson:                   1.786\n",
      "Prob(Omnibus):                  0.008   Jarque-Bera (JB):               15.722\n",
      "Skew:                           0.329   Prob(JB):                     0.000385\n",
      "Kurtosis:                       4.654   Cond. No.                         9.69\n",
      "==============================================================================\n",
      "\n",
      "Notes:\n",
      "[1] Standard Errors assume that the covariance matrix of the errors is correctly specified.\n"
     ]
    }
   ],
   "source": [
    "#time series regression with summary statistics\n",
    "import statsmodels.formula.api as smf\n",
    "d = { \"x\": pd.Series(x), \"y\": pd.Series(y)}\n",
    "df = pd.DataFrame(d)\n",
    "mod = smf.ols('y ~ x', data=df)\n",
    "res = mod.fit()\n",
    "print(res.summary())"
   ]
  },
  {
   "cell_type": "code",
   "execution_count": 29,
   "id": "3acd185d",
   "metadata": {},
   "outputs": [],
   "source": [
    "#time series regression with summary statistics\n",
    "x = np.array(data['Market Premia'][1:]).reshape((-1,1))\n",
    "y = np.array(data['Stock Premia'][1:]).reshape((-1,1))\n",
    "model = LinearRegression()\n",
    "model = model.fit(x,y)\n"
   ]
  },
  {
   "cell_type": "code",
   "execution_count": 30,
   "id": "f0b6c90b",
   "metadata": {},
   "outputs": [
    {
     "name": "stdout",
     "output_type": "stream",
     "text": [
      "[*********************100%***********************]  4 of 4 completed\n"
     ]
    },
    {
     "data": {
      "text/html": [
       "<div>\n",
       "<style scoped>\n",
       "    .dataframe tbody tr th:only-of-type {\n",
       "        vertical-align: middle;\n",
       "    }\n",
       "\n",
       "    .dataframe tbody tr th {\n",
       "        vertical-align: top;\n",
       "    }\n",
       "\n",
       "    .dataframe thead tr th {\n",
       "        text-align: left;\n",
       "    }\n",
       "\n",
       "    .dataframe thead tr:last-of-type th {\n",
       "        text-align: right;\n",
       "    }\n",
       "</style>\n",
       "<table border=\"1\" class=\"dataframe\">\n",
       "  <thead>\n",
       "    <tr>\n",
       "      <th></th>\n",
       "      <th colspan=\"4\" halign=\"left\">Adj Close</th>\n",
       "      <th colspan=\"4\" halign=\"left\">Close</th>\n",
       "      <th colspan=\"2\" halign=\"left\">High</th>\n",
       "      <th>...</th>\n",
       "      <th colspan=\"2\" halign=\"left\">Low</th>\n",
       "      <th colspan=\"4\" halign=\"left\">Open</th>\n",
       "      <th colspan=\"4\" halign=\"left\">Volume</th>\n",
       "    </tr>\n",
       "    <tr>\n",
       "      <th></th>\n",
       "      <th>MU</th>\n",
       "      <th>NVDA</th>\n",
       "      <th>QRVO</th>\n",
       "      <th>SPY</th>\n",
       "      <th>MU</th>\n",
       "      <th>NVDA</th>\n",
       "      <th>QRVO</th>\n",
       "      <th>SPY</th>\n",
       "      <th>MU</th>\n",
       "      <th>NVDA</th>\n",
       "      <th>...</th>\n",
       "      <th>QRVO</th>\n",
       "      <th>SPY</th>\n",
       "      <th>MU</th>\n",
       "      <th>NVDA</th>\n",
       "      <th>QRVO</th>\n",
       "      <th>SPY</th>\n",
       "      <th>MU</th>\n",
       "      <th>NVDA</th>\n",
       "      <th>QRVO</th>\n",
       "      <th>SPY</th>\n",
       "    </tr>\n",
       "    <tr>\n",
       "      <th>Date</th>\n",
       "      <th></th>\n",
       "      <th></th>\n",
       "      <th></th>\n",
       "      <th></th>\n",
       "      <th></th>\n",
       "      <th></th>\n",
       "      <th></th>\n",
       "      <th></th>\n",
       "      <th></th>\n",
       "      <th></th>\n",
       "      <th></th>\n",
       "      <th></th>\n",
       "      <th></th>\n",
       "      <th></th>\n",
       "      <th></th>\n",
       "      <th></th>\n",
       "      <th></th>\n",
       "      <th></th>\n",
       "      <th></th>\n",
       "      <th></th>\n",
       "      <th></th>\n",
       "    </tr>\n",
       "  </thead>\n",
       "  <tbody>\n",
       "    <tr>\n",
       "      <th>2011-01-01</th>\n",
       "      <td>10.525288</td>\n",
       "      <td>5.493963</td>\n",
       "      <td>NaN</td>\n",
       "      <td>104.433495</td>\n",
       "      <td>10.540000</td>\n",
       "      <td>5.980000</td>\n",
       "      <td>NaN</td>\n",
       "      <td>128.679993</td>\n",
       "      <td>10.770000</td>\n",
       "      <td>6.262500</td>\n",
       "      <td>...</td>\n",
       "      <td>NaN</td>\n",
       "      <td>125.699997</td>\n",
       "      <td>8.140000</td>\n",
       "      <td>3.880000</td>\n",
       "      <td>NaN</td>\n",
       "      <td>126.709999</td>\n",
       "      <td>9.266748e+08</td>\n",
       "      <td>3.273688e+09</td>\n",
       "      <td>NaN</td>\n",
       "      <td>2.860315e+09</td>\n",
       "    </tr>\n",
       "    <tr>\n",
       "      <th>2011-02-01</th>\n",
       "      <td>11.114464</td>\n",
       "      <td>5.204565</td>\n",
       "      <td>NaN</td>\n",
       "      <td>108.061241</td>\n",
       "      <td>11.130000</td>\n",
       "      <td>5.665000</td>\n",
       "      <td>NaN</td>\n",
       "      <td>133.149994</td>\n",
       "      <td>11.950000</td>\n",
       "      <td>6.542500</td>\n",
       "      <td>...</td>\n",
       "      <td>NaN</td>\n",
       "      <td>129.380005</td>\n",
       "      <td>10.670000</td>\n",
       "      <td>6.032500</td>\n",
       "      <td>NaN</td>\n",
       "      <td>129.460007</td>\n",
       "      <td>7.889980e+08</td>\n",
       "      <td>2.402576e+09</td>\n",
       "      <td>NaN</td>\n",
       "      <td>2.820074e+09</td>\n",
       "    </tr>\n",
       "    <tr>\n",
       "      <th>2011-03-01</th>\n",
       "      <td>11.453990</td>\n",
       "      <td>4.239907</td>\n",
       "      <td>NaN</td>\n",
       "      <td>107.606743</td>\n",
       "      <td>11.470000</td>\n",
       "      <td>4.615000</td>\n",
       "      <td>NaN</td>\n",
       "      <td>132.589996</td>\n",
       "      <td>11.890000</td>\n",
       "      <td>5.747500</td>\n",
       "      <td>...</td>\n",
       "      <td>NaN</td>\n",
       "      <td>125.279999</td>\n",
       "      <td>11.200000</td>\n",
       "      <td>5.675000</td>\n",
       "      <td>NaN</td>\n",
       "      <td>133.570007</td>\n",
       "      <td>1.003912e+09</td>\n",
       "      <td>2.759758e+09</td>\n",
       "      <td>NaN</td>\n",
       "      <td>4.787459e+09</td>\n",
       "    </tr>\n",
       "    <tr>\n",
       "      <th>2011-03-18</th>\n",
       "      <td>NaN</td>\n",
       "      <td>NaN</td>\n",
       "      <td>NaN</td>\n",
       "      <td>NaN</td>\n",
       "      <td>NaN</td>\n",
       "      <td>NaN</td>\n",
       "      <td>NaN</td>\n",
       "      <td>NaN</td>\n",
       "      <td>NaN</td>\n",
       "      <td>NaN</td>\n",
       "      <td>...</td>\n",
       "      <td>NaN</td>\n",
       "      <td>NaN</td>\n",
       "      <td>NaN</td>\n",
       "      <td>NaN</td>\n",
       "      <td>NaN</td>\n",
       "      <td>NaN</td>\n",
       "      <td>NaN</td>\n",
       "      <td>NaN</td>\n",
       "      <td>NaN</td>\n",
       "      <td>NaN</td>\n",
       "    </tr>\n",
       "    <tr>\n",
       "      <th>2011-04-01</th>\n",
       "      <td>11.304198</td>\n",
       "      <td>4.593613</td>\n",
       "      <td>NaN</td>\n",
       "      <td>111.204201</td>\n",
       "      <td>11.320000</td>\n",
       "      <td>5.000000</td>\n",
       "      <td>NaN</td>\n",
       "      <td>136.429993</td>\n",
       "      <td>11.830000</td>\n",
       "      <td>5.110000</td>\n",
       "      <td>...</td>\n",
       "      <td>NaN</td>\n",
       "      <td>129.509995</td>\n",
       "      <td>11.530000</td>\n",
       "      <td>4.675000</td>\n",
       "      <td>NaN</td>\n",
       "      <td>133.410004</td>\n",
       "      <td>6.283603e+08</td>\n",
       "      <td>1.532207e+09</td>\n",
       "      <td>NaN</td>\n",
       "      <td>2.812718e+09</td>\n",
       "    </tr>\n",
       "    <tr>\n",
       "      <th>...</th>\n",
       "      <td>...</td>\n",
       "      <td>...</td>\n",
       "      <td>...</td>\n",
       "      <td>...</td>\n",
       "      <td>...</td>\n",
       "      <td>...</td>\n",
       "      <td>...</td>\n",
       "      <td>...</td>\n",
       "      <td>...</td>\n",
       "      <td>...</td>\n",
       "      <td>...</td>\n",
       "      <td>...</td>\n",
       "      <td>...</td>\n",
       "      <td>...</td>\n",
       "      <td>...</td>\n",
       "      <td>...</td>\n",
       "      <td>...</td>\n",
       "      <td>...</td>\n",
       "      <td>...</td>\n",
       "      <td>...</td>\n",
       "      <td>...</td>\n",
       "    </tr>\n",
       "    <tr>\n",
       "      <th>2020-09-18</th>\n",
       "      <td>NaN</td>\n",
       "      <td>NaN</td>\n",
       "      <td>NaN</td>\n",
       "      <td>NaN</td>\n",
       "      <td>NaN</td>\n",
       "      <td>NaN</td>\n",
       "      <td>NaN</td>\n",
       "      <td>NaN</td>\n",
       "      <td>NaN</td>\n",
       "      <td>NaN</td>\n",
       "      <td>...</td>\n",
       "      <td>NaN</td>\n",
       "      <td>NaN</td>\n",
       "      <td>NaN</td>\n",
       "      <td>NaN</td>\n",
       "      <td>NaN</td>\n",
       "      <td>NaN</td>\n",
       "      <td>NaN</td>\n",
       "      <td>NaN</td>\n",
       "      <td>NaN</td>\n",
       "      <td>NaN</td>\n",
       "    </tr>\n",
       "    <tr>\n",
       "      <th>2020-10-01</th>\n",
       "      <td>50.269730</td>\n",
       "      <td>125.208969</td>\n",
       "      <td>127.360001</td>\n",
       "      <td>322.004059</td>\n",
       "      <td>50.340000</td>\n",
       "      <td>125.339996</td>\n",
       "      <td>127.360001</td>\n",
       "      <td>326.540009</td>\n",
       "      <td>54.849998</td>\n",
       "      <td>143.485001</td>\n",
       "      <td>...</td>\n",
       "      <td>124.559998</td>\n",
       "      <td>322.600006</td>\n",
       "      <td>47.099998</td>\n",
       "      <td>137.580002</td>\n",
       "      <td>132.085007</td>\n",
       "      <td>337.690002</td>\n",
       "      <td>3.513476e+08</td>\n",
       "      <td>8.022356e+08</td>\n",
       "      <td>21511400.0</td>\n",
       "      <td>1.629016e+09</td>\n",
       "    </tr>\n",
       "    <tr>\n",
       "      <th>2020-11-01</th>\n",
       "      <td>64.000534</td>\n",
       "      <td>133.874893</td>\n",
       "      <td>156.679993</td>\n",
       "      <td>357.030670</td>\n",
       "      <td>64.089996</td>\n",
       "      <td>134.014999</td>\n",
       "      <td>156.679993</td>\n",
       "      <td>362.059998</td>\n",
       "      <td>65.250000</td>\n",
       "      <td>146.914993</td>\n",
       "      <td>...</td>\n",
       "      <td>126.519997</td>\n",
       "      <td>327.239990</td>\n",
       "      <td>50.790001</td>\n",
       "      <td>126.577499</td>\n",
       "      <td>129.889999</td>\n",
       "      <td>330.200012</td>\n",
       "      <td>3.249788e+08</td>\n",
       "      <td>7.594820e+08</td>\n",
       "      <td>25716100.0</td>\n",
       "      <td>1.535244e+09</td>\n",
       "    </tr>\n",
       "    <tr>\n",
       "      <th>2020-12-01</th>\n",
       "      <td>75.075058</td>\n",
       "      <td>130.413528</td>\n",
       "      <td>166.270004</td>\n",
       "      <td>368.686493</td>\n",
       "      <td>75.180000</td>\n",
       "      <td>130.550003</td>\n",
       "      <td>166.270004</td>\n",
       "      <td>373.880005</td>\n",
       "      <td>75.680000</td>\n",
       "      <td>137.312500</td>\n",
       "      <td>...</td>\n",
       "      <td>151.440002</td>\n",
       "      <td>362.029999</td>\n",
       "      <td>65.250000</td>\n",
       "      <td>134.922501</td>\n",
       "      <td>158.800003</td>\n",
       "      <td>365.570007</td>\n",
       "      <td>3.591664e+08</td>\n",
       "      <td>5.120996e+08</td>\n",
       "      <td>26533300.0</td>\n",
       "      <td>1.344542e+09</td>\n",
       "    </tr>\n",
       "    <tr>\n",
       "      <th>2020-12-18</th>\n",
       "      <td>NaN</td>\n",
       "      <td>NaN</td>\n",
       "      <td>NaN</td>\n",
       "      <td>NaN</td>\n",
       "      <td>NaN</td>\n",
       "      <td>NaN</td>\n",
       "      <td>NaN</td>\n",
       "      <td>NaN</td>\n",
       "      <td>NaN</td>\n",
       "      <td>NaN</td>\n",
       "      <td>...</td>\n",
       "      <td>NaN</td>\n",
       "      <td>NaN</td>\n",
       "      <td>NaN</td>\n",
       "      <td>NaN</td>\n",
       "      <td>NaN</td>\n",
       "      <td>NaN</td>\n",
       "      <td>NaN</td>\n",
       "      <td>NaN</td>\n",
       "      <td>NaN</td>\n",
       "      <td>NaN</td>\n",
       "    </tr>\n",
       "  </tbody>\n",
       "</table>\n",
       "<p>166 rows × 24 columns</p>\n",
       "</div>"
      ],
      "text/plain": [
       "            Adj Close                                          Close  \\\n",
       "                   MU        NVDA        QRVO         SPY         MU   \n",
       "Date                                                                   \n",
       "2011-01-01  10.525288    5.493963         NaN  104.433495  10.540000   \n",
       "2011-02-01  11.114464    5.204565         NaN  108.061241  11.130000   \n",
       "2011-03-01  11.453990    4.239907         NaN  107.606743  11.470000   \n",
       "2011-03-18        NaN         NaN         NaN         NaN        NaN   \n",
       "2011-04-01  11.304198    4.593613         NaN  111.204201  11.320000   \n",
       "...               ...         ...         ...         ...        ...   \n",
       "2020-09-18        NaN         NaN         NaN         NaN        NaN   \n",
       "2020-10-01  50.269730  125.208969  127.360001  322.004059  50.340000   \n",
       "2020-11-01  64.000534  133.874893  156.679993  357.030670  64.089996   \n",
       "2020-12-01  75.075058  130.413528  166.270004  368.686493  75.180000   \n",
       "2020-12-18        NaN         NaN         NaN         NaN        NaN   \n",
       "\n",
       "                                                     High              ...  \\\n",
       "                  NVDA        QRVO         SPY         MU        NVDA  ...   \n",
       "Date                                                                   ...   \n",
       "2011-01-01    5.980000         NaN  128.679993  10.770000    6.262500  ...   \n",
       "2011-02-01    5.665000         NaN  133.149994  11.950000    6.542500  ...   \n",
       "2011-03-01    4.615000         NaN  132.589996  11.890000    5.747500  ...   \n",
       "2011-03-18         NaN         NaN         NaN        NaN         NaN  ...   \n",
       "2011-04-01    5.000000         NaN  136.429993  11.830000    5.110000  ...   \n",
       "...                ...         ...         ...        ...         ...  ...   \n",
       "2020-09-18         NaN         NaN         NaN        NaN         NaN  ...   \n",
       "2020-10-01  125.339996  127.360001  326.540009  54.849998  143.485001  ...   \n",
       "2020-11-01  134.014999  156.679993  362.059998  65.250000  146.914993  ...   \n",
       "2020-12-01  130.550003  166.270004  373.880005  75.680000  137.312500  ...   \n",
       "2020-12-18         NaN         NaN         NaN        NaN         NaN  ...   \n",
       "\n",
       "                   Low                   Open                          \\\n",
       "                  QRVO         SPY         MU        NVDA        QRVO   \n",
       "Date                                                                    \n",
       "2011-01-01         NaN  125.699997   8.140000    3.880000         NaN   \n",
       "2011-02-01         NaN  129.380005  10.670000    6.032500         NaN   \n",
       "2011-03-01         NaN  125.279999  11.200000    5.675000         NaN   \n",
       "2011-03-18         NaN         NaN        NaN         NaN         NaN   \n",
       "2011-04-01         NaN  129.509995  11.530000    4.675000         NaN   \n",
       "...                ...         ...        ...         ...         ...   \n",
       "2020-09-18         NaN         NaN        NaN         NaN         NaN   \n",
       "2020-10-01  124.559998  322.600006  47.099998  137.580002  132.085007   \n",
       "2020-11-01  126.519997  327.239990  50.790001  126.577499  129.889999   \n",
       "2020-12-01  151.440002  362.029999  65.250000  134.922501  158.800003   \n",
       "2020-12-18         NaN         NaN        NaN         NaN         NaN   \n",
       "\n",
       "                              Volume                                          \n",
       "                   SPY            MU          NVDA        QRVO           SPY  \n",
       "Date                                                                          \n",
       "2011-01-01  126.709999  9.266748e+08  3.273688e+09         NaN  2.860315e+09  \n",
       "2011-02-01  129.460007  7.889980e+08  2.402576e+09         NaN  2.820074e+09  \n",
       "2011-03-01  133.570007  1.003912e+09  2.759758e+09         NaN  4.787459e+09  \n",
       "2011-03-18         NaN           NaN           NaN         NaN           NaN  \n",
       "2011-04-01  133.410004  6.283603e+08  1.532207e+09         NaN  2.812718e+09  \n",
       "...                ...           ...           ...         ...           ...  \n",
       "2020-09-18         NaN           NaN           NaN         NaN           NaN  \n",
       "2020-10-01  337.690002  3.513476e+08  8.022356e+08  21511400.0  1.629016e+09  \n",
       "2020-11-01  330.200012  3.249788e+08  7.594820e+08  25716100.0  1.535244e+09  \n",
       "2020-12-01  365.570007  3.591664e+08  5.120996e+08  26533300.0  1.344542e+09  \n",
       "2020-12-18         NaN           NaN           NaN         NaN           NaN  \n",
       "\n",
       "[166 rows x 24 columns]"
      ]
     },
     "execution_count": 30,
     "metadata": {},
     "output_type": "execute_result"
    }
   ],
   "source": [
    "comps = yf.download(f'{comp2},{comp3},{comp4}, SPY',start = start,end=end,interval = freq)\n",
    "comps"
   ]
  },
  {
   "cell_type": "code",
   "execution_count": 31,
   "id": "e6faddad",
   "metadata": {},
   "outputs": [
    {
     "name": "stdout",
     "output_type": "stream",
     "text": [
      "Summary Statistics\n",
      "----------------------------------------------------------------------------------------------------\n",
      "The number of observations in the regression is:  119\n",
      "The correlation of the risk premia of the market and your stock is:  0.9881\n",
      "The R-squared of the regression for the SCL is:  0.976\n",
      "The Adjused R-squared of the regression for the SCL is:  0.976\n",
      "The standard error of the regression is:  0.09518\n",
      "The t-test value of the beta is:  -2.037\n"
     ]
    }
   ],
   "source": [
    "#time series regression with summary statistics\n",
    "print('Summary Statistics')\n",
    "print('-'*100)\n",
    "print(f'The number of observations in the regression is: ',len(data)-1)\n",
    "print('The correlation of the risk premia of the market and your stock is: ',round(model.score(x,y)**(1/2),4))\n",
    "print('The R-squared of the regression for the SCL is: ',round(model.score(x,y),3))\n",
    "print('The Adjused R-squared of the regression for the SCL is: ',round(1 - (1-model.score(x, y))*(len(y)-1)/(len(y)-x.shape[1]-1),3))\n",
    "print('The standard error of the regression is: ',round(res.scale**.5,5))\n",
    "print('The t-test value of the beta is: ',round((res.params[1]-1)/res.bse[1],3))"
   ]
  },
  {
   "cell_type": "code",
   "execution_count": 32,
   "id": "d92071a3",
   "metadata": {},
   "outputs": [
    {
     "data": {
      "text/html": [
       "<div>\n",
       "<style scoped>\n",
       "    .dataframe tbody tr th:only-of-type {\n",
       "        vertical-align: middle;\n",
       "    }\n",
       "\n",
       "    .dataframe tbody tr th {\n",
       "        vertical-align: top;\n",
       "    }\n",
       "\n",
       "    .dataframe thead th {\n",
       "        text-align: right;\n",
       "    }\n",
       "</style>\n",
       "<table border=\"1\" class=\"dataframe\">\n",
       "  <thead>\n",
       "    <tr style=\"text-align: right;\">\n",
       "      <th></th>\n",
       "      <th>MU</th>\n",
       "      <th>NVDA</th>\n",
       "      <th>QRVO</th>\n",
       "      <th>SPY</th>\n",
       "    </tr>\n",
       "    <tr>\n",
       "      <th>Date</th>\n",
       "      <th></th>\n",
       "      <th></th>\n",
       "      <th></th>\n",
       "      <th></th>\n",
       "    </tr>\n",
       "  </thead>\n",
       "  <tbody>\n",
       "    <tr>\n",
       "      <th>2011-01-01</th>\n",
       "      <td>10.54</td>\n",
       "      <td>5.980</td>\n",
       "      <td>NaN</td>\n",
       "      <td>128.679993</td>\n",
       "    </tr>\n",
       "    <tr>\n",
       "      <th>2011-02-01</th>\n",
       "      <td>11.13</td>\n",
       "      <td>5.665</td>\n",
       "      <td>NaN</td>\n",
       "      <td>133.149994</td>\n",
       "    </tr>\n",
       "    <tr>\n",
       "      <th>2011-03-01</th>\n",
       "      <td>11.47</td>\n",
       "      <td>4.615</td>\n",
       "      <td>NaN</td>\n",
       "      <td>132.589996</td>\n",
       "    </tr>\n",
       "    <tr>\n",
       "      <th>2011-04-01</th>\n",
       "      <td>11.32</td>\n",
       "      <td>5.000</td>\n",
       "      <td>NaN</td>\n",
       "      <td>136.429993</td>\n",
       "    </tr>\n",
       "    <tr>\n",
       "      <th>2011-05-01</th>\n",
       "      <td>10.20</td>\n",
       "      <td>5.010</td>\n",
       "      <td>NaN</td>\n",
       "      <td>134.899994</td>\n",
       "    </tr>\n",
       "  </tbody>\n",
       "</table>\n",
       "</div>"
      ],
      "text/plain": [
       "               MU   NVDA  QRVO         SPY\n",
       "Date                                      \n",
       "2011-01-01  10.54  5.980   NaN  128.679993\n",
       "2011-02-01  11.13  5.665   NaN  133.149994\n",
       "2011-03-01  11.47  4.615   NaN  132.589996\n",
       "2011-04-01  11.32  5.000   NaN  136.429993\n",
       "2011-05-01  10.20  5.010   NaN  134.899994"
      ]
     },
     "execution_count": 32,
     "metadata": {},
     "output_type": "execute_result"
    }
   ],
   "source": [
    "comps.dropna(axis=0,how='all',inplace=True)\n",
    "comps = pd.DataFrame(comps)\n",
    "comps = pd.DataFrame(comps['Close'])\n",
    "comps[:5]"
   ]
  },
  {
   "cell_type": "code",
   "execution_count": 33,
   "id": "2c81e3be",
   "metadata": {},
   "outputs": [],
   "source": [
    "comp2_ret = comps[f'{comp2}'].pct_change()\n",
    "comp3_ret = comps[f'{comp3}'].pct_change()\n",
    "comp4_ret = comps[f'{comp4}'].pct_change()\n",
    "mark_ret = comps['SPY'].pct_change()"
   ]
  },
  {
   "cell_type": "code",
   "execution_count": 34,
   "id": "874f726c",
   "metadata": {},
   "outputs": [
    {
     "data": {
      "image/png": "[encoded data removed]",
      "text/plain": [
       "<Figure size 720x720 with 1 Axes>"
      ]
     },
     "metadata": {
      "needs_background": "light"
     },
     "output_type": "display_data"
    }
   ],
   "source": [
    "plt.figure(figsize=(10, 10))\n",
    "ax = plt.subplot(111)\n",
    "ax.plot(x, y, 'o')\n",
    "#predicted?\n",
    "ax.set_title('Stock Premia vs. Market Premia with the SCL')\n",
    "ax.set_xlabel('Market Premia')\n",
    "ax.set_ylabel('Stock Premia')\n",
    "ax.set_xlim([-.25,.25])\n",
    "plt.show()"
   ]
  },
  {
   "cell_type": "code",
   "execution_count": 35,
   "id": "7b371b4f",
   "metadata": {},
   "outputs": [],
   "source": [
    "comps['SPY'] = comps['SPY']/100"
   ]
  },
  {
   "cell_type": "code",
   "execution_count": 36,
   "id": "48410995",
   "metadata": {},
   "outputs": [],
   "source": [
    "comps['Comp2 Returns'] = comp2_ret\n",
    "comps['Comp3 Returns'] = comp3_ret\n",
    "comps['Comp4 Returns'] = comp4_ret\n",
    "comps['Market Returns'] = mark_ret\n",
    "comps['Comp2 Returns'] = comps['Comp2 Returns'].apply(lambda x: float(x))\n",
    "comps['Comp3 Returns'] = comps['Comp3 Returns'].apply(lambda x: float(x))\n",
    "comps['Comp4 Returns'] = comps['Comp4 Returns'].apply(lambda x: float(x))\n",
    "comps['Market Returns'] = comps['Market Returns'].apply(lambda x: float(x))\n",
    "comps['SPY'] = comps['SPY'].apply(lambda x: float(x))"
   ]
  },
  {
   "cell_type": "code",
   "execution_count": 37,
   "id": "2bf87678",
   "metadata": {},
   "outputs": [
    {
     "data": {
      "text/html": [
       "<div>\n",
       "<style scoped>\n",
       "    .dataframe tbody tr th:only-of-type {\n",
       "        vertical-align: middle;\n",
       "    }\n",
       "\n",
       "    .dataframe tbody tr th {\n",
       "        vertical-align: top;\n",
       "    }\n",
       "\n",
       "    .dataframe thead th {\n",
       "        text-align: right;\n",
       "    }\n",
       "</style>\n",
       "<table border=\"1\" class=\"dataframe\">\n",
       "  <thead>\n",
       "    <tr style=\"text-align: right;\">\n",
       "      <th></th>\n",
       "      <th>MU</th>\n",
       "      <th>NVDA</th>\n",
       "      <th>QRVO</th>\n",
       "      <th>SPY</th>\n",
       "      <th>Comp2 Returns</th>\n",
       "      <th>Comp3 Returns</th>\n",
       "      <th>Comp4 Returns</th>\n",
       "      <th>Market Returns</th>\n",
       "      <th>Comp2 Premia</th>\n",
       "      <th>Comp3 Premia</th>\n",
       "      <th>Comp4 Premia</th>\n",
       "      <th>Market Premia</th>\n",
       "    </tr>\n",
       "    <tr>\n",
       "      <th>Date</th>\n",
       "      <th></th>\n",
       "      <th></th>\n",
       "      <th></th>\n",
       "      <th></th>\n",
       "      <th></th>\n",
       "      <th></th>\n",
       "      <th></th>\n",
       "      <th></th>\n",
       "      <th></th>\n",
       "      <th></th>\n",
       "      <th></th>\n",
       "      <th></th>\n",
       "    </tr>\n",
       "  </thead>\n",
       "  <tbody>\n",
       "    <tr>\n",
       "      <th>2011-01-01</th>\n",
       "      <td>10.54</td>\n",
       "      <td>5.980</td>\n",
       "      <td>NaN</td>\n",
       "      <td>1.2868</td>\n",
       "      <td>NaN</td>\n",
       "      <td>NaN</td>\n",
       "      <td>NaN</td>\n",
       "      <td>NaN</td>\n",
       "      <td>NaN</td>\n",
       "      <td>NaN</td>\n",
       "      <td>NaN</td>\n",
       "      <td>NaN</td>\n",
       "    </tr>\n",
       "    <tr>\n",
       "      <th>2011-02-01</th>\n",
       "      <td>11.13</td>\n",
       "      <td>5.665</td>\n",
       "      <td>NaN</td>\n",
       "      <td>1.3315</td>\n",
       "      <td>0.055977</td>\n",
       "      <td>NaN</td>\n",
       "      <td>-0.052676</td>\n",
       "      <td>0.034737</td>\n",
       "      <td>-1.275523</td>\n",
       "      <td>NaN</td>\n",
       "      <td>-1.384176</td>\n",
       "      <td>-1.296763</td>\n",
       "    </tr>\n",
       "    <tr>\n",
       "      <th>2011-03-01</th>\n",
       "      <td>11.47</td>\n",
       "      <td>4.615</td>\n",
       "      <td>NaN</td>\n",
       "      <td>1.3259</td>\n",
       "      <td>0.030548</td>\n",
       "      <td>NaN</td>\n",
       "      <td>-0.185349</td>\n",
       "      <td>-0.004206</td>\n",
       "      <td>-1.295352</td>\n",
       "      <td>NaN</td>\n",
       "      <td>-1.511249</td>\n",
       "      <td>-1.330106</td>\n",
       "    </tr>\n",
       "    <tr>\n",
       "      <th>2011-04-01</th>\n",
       "      <td>11.32</td>\n",
       "      <td>5.000</td>\n",
       "      <td>NaN</td>\n",
       "      <td>1.3643</td>\n",
       "      <td>-0.013078</td>\n",
       "      <td>NaN</td>\n",
       "      <td>0.083424</td>\n",
       "      <td>0.028961</td>\n",
       "      <td>-1.377378</td>\n",
       "      <td>NaN</td>\n",
       "      <td>-1.280876</td>\n",
       "      <td>-1.335338</td>\n",
       "    </tr>\n",
       "    <tr>\n",
       "      <th>2011-05-01</th>\n",
       "      <td>10.20</td>\n",
       "      <td>5.010</td>\n",
       "      <td>NaN</td>\n",
       "      <td>1.3490</td>\n",
       "      <td>-0.098940</td>\n",
       "      <td>NaN</td>\n",
       "      <td>0.002000</td>\n",
       "      <td>-0.011215</td>\n",
       "      <td>-1.447940</td>\n",
       "      <td>NaN</td>\n",
       "      <td>-1.347000</td>\n",
       "      <td>-1.360214</td>\n",
       "    </tr>\n",
       "  </tbody>\n",
       "</table>\n",
       "</div>"
      ],
      "text/plain": [
       "               MU   NVDA  QRVO     SPY  Comp2 Returns  Comp3 Returns  \\\n",
       "Date                                                                   \n",
       "2011-01-01  10.54  5.980   NaN  1.2868            NaN            NaN   \n",
       "2011-02-01  11.13  5.665   NaN  1.3315       0.055977            NaN   \n",
       "2011-03-01  11.47  4.615   NaN  1.3259       0.030548            NaN   \n",
       "2011-04-01  11.32  5.000   NaN  1.3643      -0.013078            NaN   \n",
       "2011-05-01  10.20  5.010   NaN  1.3490      -0.098940            NaN   \n",
       "\n",
       "            Comp4 Returns  Market Returns  Comp2 Premia  Comp3 Premia  \\\n",
       "Date                                                                    \n",
       "2011-01-01            NaN             NaN           NaN           NaN   \n",
       "2011-02-01      -0.052676        0.034737     -1.275523           NaN   \n",
       "2011-03-01      -0.185349       -0.004206     -1.295352           NaN   \n",
       "2011-04-01       0.083424        0.028961     -1.377378           NaN   \n",
       "2011-05-01       0.002000       -0.011215     -1.447940           NaN   \n",
       "\n",
       "            Comp4 Premia  Market Premia  \n",
       "Date                                     \n",
       "2011-01-01           NaN            NaN  \n",
       "2011-02-01     -1.384176      -1.296763  \n",
       "2011-03-01     -1.511249      -1.330106  \n",
       "2011-04-01     -1.280876      -1.335338  \n",
       "2011-05-01     -1.347000      -1.360214  "
      ]
     },
     "execution_count": 37,
     "metadata": {},
     "output_type": "execute_result"
    }
   ],
   "source": [
    "comps['Comp2 Premia'] = comps['Comp2 Returns'] - comps['SPY']\n",
    "comps['Comp3 Premia'] = comps['Comp3 Returns'] - comps['SPY']\n",
    "comps['Comp4 Premia'] = comps['Comp4 Returns'] - comps['SPY']\n",
    "comps['Market Premia'] = comps['Market Returns'] - comps['SPY']\n",
    "comps.iloc[0:5]"
   ]
  },
  {
   "cell_type": "code",
   "execution_count": 38,
   "id": "7c56ef3d",
   "metadata": {},
   "outputs": [
    {
     "data": {
      "text/plain": [
       "<matplotlib.collections.PathCollection at 0x7fcb006cda30>"
      ]
     },
     "execution_count": 38,
     "metadata": {},
     "output_type": "execute_result"
    },
    {
     "data": {
      "image/png": "[encoded data removed]",
      "text/plain": [
       "<Figure size 432x288 with 1 Axes>"
      ]
     },
     "metadata": {
      "needs_background": "light"
     },
     "output_type": "display_data"
    }
   ],
   "source": [
    "#scatter plot for risk premium of the stock and the market risk premium.\n",
    "x = np.array(comps['Market Premia'][1:])\n",
    "y2 = np.array(comps['Comp2 Premia'][1:])\n",
    "plt.scatter(x,y2)"
   ]
  },
  {
   "cell_type": "code",
   "execution_count": 39,
   "id": "2e4fbc01",
   "metadata": {},
   "outputs": [
    {
     "data": {
      "text/plain": [
       "<matplotlib.collections.PathCollection at 0x7fcb00731c70>"
      ]
     },
     "execution_count": 39,
     "metadata": {},
     "output_type": "execute_result"
    },
    {
     "data": {
      "image/png": "[encoded data removed]",
      "text/plain": [
       "<Figure size 432x288 with 1 Axes>"
      ]
     },
     "metadata": {
      "needs_background": "light"
     },
     "output_type": "display_data"
    }
   ],
   "source": [
    "#time series regression with summary statistics\n",
    "x = np.array(comps['Market Premia'][1:])\n",
    "y3 = np.array(comps['Comp3 Premia'][1:])\n",
    "plt.scatter(x,y3)"
   ]
  },
  {
   "cell_type": "code",
   "execution_count": 40,
   "id": "e60a6e28",
   "metadata": {},
   "outputs": [
    {
     "data": {
      "text/plain": [
       "<matplotlib.collections.PathCollection at 0x7fcb00898160>"
      ]
     },
     "execution_count": 40,
     "metadata": {},
     "output_type": "execute_result"
    },
    {
     "data": {
      "image/png": "[encoded data removed]",
      "text/plain": [
       "<Figure size 432x288 with 1 Axes>"
      ]
     },
     "metadata": {
      "needs_background": "light"
     },
     "output_type": "display_data"
    }
   ],
   "source": [
    "#scatter plot for risk premium of the stock and the market risk premium.\n",
    "x = np.array(comps['Market Premia'][1:])\n",
    "y4 = np.array(comps['Comp4 Premia'][1:])\n",
    "plt.scatter(x,y4)"
   ]
  },
  {
   "cell_type": "code",
   "execution_count": 41,
   "id": "d8b08dc8",
   "metadata": {},
   "outputs": [
    {
     "name": "stdout",
     "output_type": "stream",
     "text": [
      "                            OLS Regression Results                            \n",
      "==============================================================================\n",
      "Dep. Variable:                     y2   R-squared:                       0.972\n",
      "Model:                            OLS   Adj. R-squared:                  0.971\n",
      "Method:                 Least Squares   F-statistic:                     4022.\n",
      "Date:                Tue, 09 Nov 2021   Prob (F-statistic):           1.87e-92\n",
      "Time:                        15:54:25   Log-Likelihood:                 98.698\n",
      "No. Observations:                 119   AIC:                            -193.4\n",
      "Df Residuals:                     117   BIC:                            -187.8\n",
      "Df Model:                           1                                         \n",
      "Covariance Type:            nonrobust                                         \n",
      "==============================================================================\n",
      "                 coef    std err          t      P>|t|      [0.025      0.975]\n",
      "------------------------------------------------------------------------------\n",
      "Intercept     -0.0057      0.035     -0.162      0.871      -0.076       0.064\n",
      "x              0.9908      0.016     63.421      0.000       0.960       1.022\n",
      "==============================================================================\n",
      "Omnibus:                        0.047   Durbin-Watson:                   1.758\n",
      "Prob(Omnibus):                  0.977   Jarque-Bera (JB):                0.043\n",
      "Skew:                           0.034   Prob(JB):                        0.979\n",
      "Kurtosis:                       2.937   Cond. No.                         9.69\n",
      "==============================================================================\n",
      "\n",
      "Notes:\n",
      "[1] Standard Errors assume that the covariance matrix of the errors is correctly specified.\n"
     ]
    },
    {
     "data": {
      "text/plain": [
       "0.9908097072713562"
      ]
     },
     "execution_count": 41,
     "metadata": {},
     "output_type": "execute_result"
    }
   ],
   "source": [
    "#time series regression with summary statistics\n",
    "import statsmodels.formula.api as smf\n",
    "d2 = { \"x\": pd.Series(x), \"y2\": pd.Series(y2)}\n",
    "df2 = pd.DataFrame(d2)\n",
    "mod = smf.ols('y2 ~ x', data=df2)\n",
    "res = mod.fit()\n",
    "print(res.summary())\n",
    "coef2= res.params[1]\n",
    "coef2"
   ]
  },
  {
   "cell_type": "code",
   "execution_count": 42,
   "id": "0a71acc8",
   "metadata": {},
   "outputs": [
    {
     "name": "stdout",
     "output_type": "stream",
     "text": [
      "                            OLS Regression Results                            \n",
      "==============================================================================\n",
      "Dep. Variable:                     y3   R-squared:                       0.939\n",
      "Model:                            OLS   Adj. R-squared:                  0.938\n",
      "Method:                 Least Squares   F-statistic:                     1051.\n",
      "Date:                Tue, 09 Nov 2021   Prob (F-statistic):           4.34e-43\n",
      "Time:                        15:54:25   Log-Likelihood:                 56.273\n",
      "No. Observations:                  70   AIC:                            -108.5\n",
      "Df Residuals:                      68   BIC:                            -104.0\n",
      "Df Model:                           1                                         \n",
      "Covariance Type:            nonrobust                                         \n",
      "==============================================================================\n",
      "                 coef    std err          t      P>|t|      [0.025      0.975]\n",
      "------------------------------------------------------------------------------\n",
      "Intercept     -0.0666      0.079     -0.848      0.399      -0.223       0.090\n",
      "x              0.9700      0.030     32.425      0.000       0.910       1.030\n",
      "==============================================================================\n",
      "Omnibus:                        2.748   Durbin-Watson:                   2.460\n",
      "Prob(Omnibus):                  0.253   Jarque-Bera (JB):                2.006\n",
      "Skew:                           0.261   Prob(JB):                        0.367\n",
      "Kurtosis:                       3.644   Cond. No.                         17.9\n",
      "==============================================================================\n",
      "\n",
      "Notes:\n",
      "[1] Standard Errors assume that the covariance matrix of the errors is correctly specified.\n"
     ]
    },
    {
     "data": {
      "text/plain": [
       "0.9700087164517591"
      ]
     },
     "execution_count": 42,
     "metadata": {},
     "output_type": "execute_result"
    }
   ],
   "source": [
    "#time series regression with summary statistics\n",
    "import statsmodels.formula.api as smf\n",
    "d3 = { \"x\": pd.Series(x), \"y3\": pd.Series(y3)}\n",
    "df3 = pd.DataFrame(d3)\n",
    "mod = smf.ols('y3 ~ x', data=df3)\n",
    "res = mod.fit()\n",
    "print(res.summary())\n",
    "coef3= res.params[1]\n",
    "coef3"
   ]
  },
  {
   "cell_type": "code",
   "execution_count": 43,
   "id": "22f4a6ec",
   "metadata": {},
   "outputs": [
    {
     "name": "stdout",
     "output_type": "stream",
     "text": [
      "                            OLS Regression Results                            \n",
      "==============================================================================\n",
      "Dep. Variable:                     y4   R-squared:                       0.976\n",
      "Model:                            OLS   Adj. R-squared:                  0.976\n",
      "Method:                 Least Squares   F-statistic:                     4840.\n",
      "Date:                Tue, 09 Nov 2021   Prob (F-statistic):           4.90e-97\n",
      "Time:                        15:54:25   Log-Likelihood:                 112.05\n",
      "No. Observations:                 119   AIC:                            -220.1\n",
      "Df Residuals:                     117   BIC:                            -214.5\n",
      "Df Model:                           1                                         \n",
      "Covariance Type:            nonrobust                                         \n",
      "==============================================================================\n",
      "                 coef    std err          t      P>|t|      [0.025      0.975]\n",
      "------------------------------------------------------------------------------\n",
      "Intercept     -0.0395      0.032     -1.252      0.213      -0.102       0.023\n",
      "x              0.9716      0.014     69.571      0.000       0.944       0.999\n",
      "==============================================================================\n",
      "Omnibus:                        9.567   Durbin-Watson:                   1.786\n",
      "Prob(Omnibus):                  0.008   Jarque-Bera (JB):               15.722\n",
      "Skew:                           0.329   Prob(JB):                     0.000385\n",
      "Kurtosis:                       4.654   Cond. No.                         9.69\n",
      "==============================================================================\n",
      "\n",
      "Notes:\n",
      "[1] Standard Errors assume that the covariance matrix of the errors is correctly specified.\n"
     ]
    },
    {
     "data": {
      "text/plain": [
       "0.9715548643252873"
      ]
     },
     "execution_count": 43,
     "metadata": {},
     "output_type": "execute_result"
    }
   ],
   "source": [
    "#time series regression with summary statistics\n",
    "import statsmodels.formula.api as smf\n",
    "d4 = { \"x\": pd.Series(x), \"y4\": pd.Series(y4)}\n",
    "df4 = pd.DataFrame(d4)\n",
    "mod = smf.ols('y4 ~ x', data=df4)\n",
    "res = mod.fit()\n",
    "print(res.summary())\n",
    "coef4= res.params[1]\n",
    "coef4"
   ]
  },
  {
   "cell_type": "code",
   "execution_count": 44,
   "id": "31369b8a",
   "metadata": {},
   "outputs": [
    {
     "name": "stdout",
     "output_type": "stream",
     "text": [
      "0.9908097072713562 0.9700087164517591 0.9715548643252873\n"
     ]
    }
   ],
   "source": [
    "print(coef2, coef3, coef4)"
   ]
  },
  {
   "cell_type": "code",
   "execution_count": 45,
   "id": "445519f8",
   "metadata": {},
   "outputs": [
    {
     "name": "stdout",
     "output_type": "stream",
     "text": [
      "The unlevered beta for comp 1 is  0.78126109\n"
     ]
    }
   ],
   "source": [
    "#unlever comp 1\n",
    "unleveredbetac1= coef2/(1+(1-tax_rate)*deratio2)\n",
    "print(\"The unlevered beta for comp 1 is \", round(unleveredbetac1,8))"
   ]
  },
  {
   "cell_type": "code",
   "execution_count": 46,
   "id": "a45dbf72",
   "metadata": {},
   "outputs": [],
   "source": [
    "tax_rate=0.21"
   ]
  },
  {
   "cell_type": "code",
   "execution_count": 47,
   "id": "945d60fc",
   "metadata": {},
   "outputs": [
    {
     "name": "stdout",
     "output_type": "stream",
     "text": [
      "The unlevered beta for comp 2 is  0.67253079\n"
     ]
    }
   ],
   "source": [
    "#unlever comp2\n",
    "unleveredbetac2= coef3/(1+(1-tax_rate)*deratio3)\n",
    "print(\"The unlevered beta for comp 2 is \", round(unleveredbetac2,8))"
   ]
  },
  {
   "cell_type": "code",
   "execution_count": 48,
   "id": "491f07ea",
   "metadata": {},
   "outputs": [
    {
     "name": "stdout",
     "output_type": "stream",
     "text": [
      "The unlevered beta is  0.62422844\n"
     ]
    }
   ],
   "source": [
    "#unlever comp 3\n",
    "unleveredbetac3= coef4/(1+(1-tax_rate)*deratio4)\n",
    "print(\"The unlevered beta is \", round(unleveredbetac3,8))"
   ]
  },
  {
   "cell_type": "code",
   "execution_count": 49,
   "id": "9524a928",
   "metadata": {},
   "outputs": [
    {
     "name": "stdout",
     "output_type": "stream",
     "text": [
      "The comparative beta is  0.69267344\n"
     ]
    }
   ],
   "source": [
    "compbeta_list = [unleveredbetac1, unleveredbetac2, unleveredbetac3]\n",
    "compbeta = sum(compbeta_list)/len(compbeta_list)\n",
    "print(\"The comparative beta is \", round(compbeta,8))"
   ]
  },
  {
   "cell_type": "code",
   "execution_count": 50,
   "id": "995744fb",
   "metadata": {},
   "outputs": [
    {
     "name": "stdout",
     "output_type": "stream",
     "text": [
      "The equity beta is  1.07808329\n"
     ]
    }
   ],
   "source": [
    "#calculate relevered beta\n",
    "equitybeta= compbeta *(1+(1-tax_rate)*deratio)\n",
    "print(\"The equity beta is \", round(equitybeta,8))"
   ]
  },
  {
   "cell_type": "code",
   "execution_count": 51,
   "id": "6c7094e0",
   "metadata": {},
   "outputs": [
    {
     "name": "stdout",
     "output_type": "stream",
     "text": [
      "The cost of equity is  0.05\n"
     ]
    }
   ],
   "source": [
    "#calculate cost of equity\n",
    "costequity= riskfree + (equitybeta*(marketreturn-riskfree))\n",
    "print(\"The cost of equity is \", costequity)\n"
   ]
  },
  {
   "cell_type": "code",
   "execution_count": null,
   "id": "6b0500f2",
   "metadata": {},
   "outputs": [],
   "source": []
  },
  {
   "cell_type": "code",
   "execution_count": null,
   "id": "d5d73829",
   "metadata": {},
   "outputs": [],
   "source": []
  },
  {
   "cell_type": "code",
   "execution_count": null,
   "id": "1ef3b224",
   "metadata": {},
   "outputs": [],
   "source": []
  },
  {
   "cell_type": "code",
   "execution_count": null,
   "id": "2566d992",
   "metadata": {},
   "outputs": [],
   "source": []
  }
 ],
 "metadata": {
  "kernelspec": {
   "display_name": "Python 3 (ipykernel)",
   "language": "python",
   "name": "python3"
  },
  "language_info": {
   "codemirror_mode": {
    "name": "ipython",
    "version": 3
   },
   "file_extension": ".py",
   "mimetype": "text/x-python",
   "name": "python",
   "nbconvert_exporter": "python",
   "pygments_lexer": "ipython3",
   "version": "3.8.12"
  }
 },
 "nbformat": 4,
 "nbformat_minor": 5
}
