{
 "cells": [
  {
   "cell_type": "code",
   "execution_count": 1,
   "id": "3852f2c4",
   "metadata": {},
   "outputs": [],
   "source": [
    "import pandas as pd \n",
    "import yfinance as yf\n",
    "import datetime\n",
    "import numpy as np\n",
    "import bs4 as bs\n",
    "import requests\n",
    "import matplotlib.pyplot as plt\n",
    "from bs4 import BeautifulSoup\n",
    "from urllib.request import urlopen\n",
    "from urllib.request import urlopen\n",
    "import pandas as pd\n",
    "import numpy as np\n",
    "import time\n",
    "import re\n",
    "from sklearn.linear_model import LinearRegression\n",
    "import statsmodels.api as sm\n",
    "from statsmodels.formula.api import ols\n",
    "import statsmodels.api as sm\n",
    "import statsmodels.formula.api as smf\n"
   ]
  },
  {
   "cell_type": "code",
   "execution_count": 2,
   "id": "ef3055e3",
   "metadata": {},
   "outputs": [
    {
     "name": "stdout",
     "output_type": "stream",
     "text": [
      "Please enter ticker of firm to analyze: AAPL\n",
      "Please enter start date to analyze in format \"YYYY-MM-DD\": 2010-12-31\n",
      "Please enter end date to analyze in format \"YYYY-MM-DD\": 2020-12-31\n",
      "Please enter frequency of returns to analyze (i.e.,  1d, 5d, 1wk, 1mo, 3mo: 1mo\n",
      "Please input debt structure: constant debt or constant D/Econstant debt\n",
      "Please input the risk free rate5\n",
      "Please input the market return rate7\n"
     ]
    }
   ],
   "source": [
    "symbol = input('Please enter ticker of firm to analyze: ')\n",
    "start = input('Please enter start date to analyze in format \"YYYY-MM-DD\": ')\n",
    "end = input('Please enter end date to analyze in format \"YYYY-MM-DD\": ')\n",
    "freq = input('Please enter frequency of returns to analyze (i.e.,  1d, 5d, 1wk, 1mo, 3mo: ')\n",
    "debt_structure= input('Please input debt structure: constant debt or constant D/E')\n",
    "riskfree= input('Please input the risk free rate')\n",
    "marketreturn=input('Please input the market return rate')\n",
    "tax_rate= 0.21\n",
    "#need exception h}andling if there are nans"
   ]
  },
  {
   "cell_type": "code",
   "execution_count": 3,
   "id": "408f9fea",
   "metadata": {},
   "outputs": [],
   "source": [
    "riskfree= (float(riskfree))\n",
    "marketreturn= (float(riskfree))"
   ]
  },
  {
   "cell_type": "code",
   "execution_count": 4,
   "id": "50dc3c41",
   "metadata": {},
   "outputs": [
    {
     "name": "stdout",
     "output_type": "stream",
     "text": [
      "[*********************100%***********************]  2 of 2 completed\n"
     ]
    },
    {
     "data": {
      "text/html": [
       "<div>\n",
       "<style scoped>\n",
       "    .dataframe tbody tr th:only-of-type {\n",
       "        vertical-align: middle;\n",
       "    }\n",
       "\n",
       "    .dataframe tbody tr th {\n",
       "        vertical-align: top;\n",
       "    }\n",
       "\n",
       "    .dataframe thead tr th {\n",
       "        text-align: left;\n",
       "    }\n",
       "\n",
       "    .dataframe thead tr:last-of-type th {\n",
       "        text-align: right;\n",
       "    }\n",
       "</style>\n",
       "<table border=\"1\" class=\"dataframe\">\n",
       "  <thead>\n",
       "    <tr>\n",
       "      <th></th>\n",
       "      <th colspan=\"2\" halign=\"left\">Adj Close</th>\n",
       "      <th colspan=\"2\" halign=\"left\">Close</th>\n",
       "      <th colspan=\"2\" halign=\"left\">High</th>\n",
       "      <th colspan=\"2\" halign=\"left\">Low</th>\n",
       "      <th colspan=\"2\" halign=\"left\">Open</th>\n",
       "      <th colspan=\"2\" halign=\"left\">Volume</th>\n",
       "    </tr>\n",
       "    <tr>\n",
       "      <th></th>\n",
       "      <th>AAPL</th>\n",
       "      <th>^IRX</th>\n",
       "      <th>AAPL</th>\n",
       "      <th>^IRX</th>\n",
       "      <th>AAPL</th>\n",
       "      <th>^IRX</th>\n",
       "      <th>AAPL</th>\n",
       "      <th>^IRX</th>\n",
       "      <th>AAPL</th>\n",
       "      <th>^IRX</th>\n",
       "      <th>AAPL</th>\n",
       "      <th>^IRX</th>\n",
       "    </tr>\n",
       "    <tr>\n",
       "      <th>Date</th>\n",
       "      <th></th>\n",
       "      <th></th>\n",
       "      <th></th>\n",
       "      <th></th>\n",
       "      <th></th>\n",
       "      <th></th>\n",
       "      <th></th>\n",
       "      <th></th>\n",
       "      <th></th>\n",
       "      <th></th>\n",
       "      <th></th>\n",
       "      <th></th>\n",
       "    </tr>\n",
       "  </thead>\n",
       "  <tbody>\n",
       "    <tr>\n",
       "      <th>2011-01-01</th>\n",
       "      <td>10.390039</td>\n",
       "      <td>0.145</td>\n",
       "      <td>12.118571</td>\n",
       "      <td>0.145</td>\n",
       "      <td>12.450000</td>\n",
       "      <td>0.160</td>\n",
       "      <td>11.601429</td>\n",
       "      <td>0.110</td>\n",
       "      <td>11.630000</td>\n",
       "      <td>0.135</td>\n",
       "      <td>1.084154e+10</td>\n",
       "      <td>0.0</td>\n",
       "    </tr>\n",
       "    <tr>\n",
       "      <th>2011-02-01</th>\n",
       "      <td>10.815357</td>\n",
       "      <td>0.135</td>\n",
       "      <td>12.614643</td>\n",
       "      <td>0.135</td>\n",
       "      <td>13.032143</td>\n",
       "      <td>0.155</td>\n",
       "      <td>12.061429</td>\n",
       "      <td>0.075</td>\n",
       "      <td>12.189286</td>\n",
       "      <td>0.150</td>\n",
       "      <td>9.295950e+09</td>\n",
       "      <td>0.0</td>\n",
       "    </tr>\n",
       "    <tr>\n",
       "      <th>2011-03-01</th>\n",
       "      <td>10.671437</td>\n",
       "      <td>0.090</td>\n",
       "      <td>12.446786</td>\n",
       "      <td>0.090</td>\n",
       "      <td>12.916786</td>\n",
       "      <td>0.140</td>\n",
       "      <td>11.652143</td>\n",
       "      <td>0.060</td>\n",
       "      <td>12.695357</td>\n",
       "      <td>0.140</td>\n",
       "      <td>1.130646e+10</td>\n",
       "      <td>0.0</td>\n",
       "    </tr>\n",
       "    <tr>\n",
       "      <th>2011-04-01</th>\n",
       "      <td>10.721047</td>\n",
       "      <td>0.040</td>\n",
       "      <td>12.504643</td>\n",
       "      <td>0.040</td>\n",
       "      <td>12.683214</td>\n",
       "      <td>0.090</td>\n",
       "      <td>11.434286</td>\n",
       "      <td>0.015</td>\n",
       "      <td>12.539643</td>\n",
       "      <td>0.045</td>\n",
       "      <td>9.253829e+09</td>\n",
       "      <td>0.0</td>\n",
       "    </tr>\n",
       "    <tr>\n",
       "      <th>2011-05-01</th>\n",
       "      <td>10.650619</td>\n",
       "      <td>0.040</td>\n",
       "      <td>12.422500</td>\n",
       "      <td>0.040</td>\n",
       "      <td>12.565357</td>\n",
       "      <td>0.055</td>\n",
       "      <td>11.765000</td>\n",
       "      <td>0.005</td>\n",
       "      <td>12.490714</td>\n",
       "      <td>0.040</td>\n",
       "      <td>6.912060e+09</td>\n",
       "      <td>0.0</td>\n",
       "    </tr>\n",
       "    <tr>\n",
       "      <th>...</th>\n",
       "      <td>...</td>\n",
       "      <td>...</td>\n",
       "      <td>...</td>\n",
       "      <td>...</td>\n",
       "      <td>...</td>\n",
       "      <td>...</td>\n",
       "      <td>...</td>\n",
       "      <td>...</td>\n",
       "      <td>...</td>\n",
       "      <td>...</td>\n",
       "      <td>...</td>\n",
       "      <td>...</td>\n",
       "    </tr>\n",
       "    <tr>\n",
       "      <th>2020-08-31</th>\n",
       "      <td>NaN</td>\n",
       "      <td>NaN</td>\n",
       "      <td>NaN</td>\n",
       "      <td>NaN</td>\n",
       "      <td>NaN</td>\n",
       "      <td>NaN</td>\n",
       "      <td>NaN</td>\n",
       "      <td>NaN</td>\n",
       "      <td>NaN</td>\n",
       "      <td>NaN</td>\n",
       "      <td>NaN</td>\n",
       "      <td>NaN</td>\n",
       "    </tr>\n",
       "    <tr>\n",
       "      <th>2020-09-01</th>\n",
       "      <td>114.902199</td>\n",
       "      <td>0.085</td>\n",
       "      <td>115.809998</td>\n",
       "      <td>0.085</td>\n",
       "      <td>137.979996</td>\n",
       "      <td>0.110</td>\n",
       "      <td>103.099998</td>\n",
       "      <td>0.075</td>\n",
       "      <td>132.759995</td>\n",
       "      <td>0.100</td>\n",
       "      <td>3.885245e+09</td>\n",
       "      <td>0.0</td>\n",
       "    </tr>\n",
       "    <tr>\n",
       "      <th>2020-10-01</th>\n",
       "      <td>108.006676</td>\n",
       "      <td>0.083</td>\n",
       "      <td>108.860001</td>\n",
       "      <td>0.083</td>\n",
       "      <td>125.389999</td>\n",
       "      <td>0.100</td>\n",
       "      <td>107.720001</td>\n",
       "      <td>0.080</td>\n",
       "      <td>117.639999</td>\n",
       "      <td>0.088</td>\n",
       "      <td>2.894666e+09</td>\n",
       "      <td>0.0</td>\n",
       "    </tr>\n",
       "    <tr>\n",
       "      <th>2020-11-01</th>\n",
       "      <td>118.116806</td>\n",
       "      <td>0.075</td>\n",
       "      <td>119.050003</td>\n",
       "      <td>0.075</td>\n",
       "      <td>121.989998</td>\n",
       "      <td>0.095</td>\n",
       "      <td>107.320000</td>\n",
       "      <td>0.048</td>\n",
       "      <td>109.110001</td>\n",
       "      <td>0.083</td>\n",
       "      <td>2.123077e+09</td>\n",
       "      <td>0.0</td>\n",
       "    </tr>\n",
       "    <tr>\n",
       "      <th>2020-12-01</th>\n",
       "      <td>131.877014</td>\n",
       "      <td>0.065</td>\n",
       "      <td>132.690002</td>\n",
       "      <td>0.065</td>\n",
       "      <td>138.789993</td>\n",
       "      <td>0.090</td>\n",
       "      <td>120.010002</td>\n",
       "      <td>0.060</td>\n",
       "      <td>121.010002</td>\n",
       "      <td>0.080</td>\n",
       "      <td>2.322190e+09</td>\n",
       "      <td>0.0</td>\n",
       "    </tr>\n",
       "  </tbody>\n",
       "</table>\n",
       "<p>131 rows × 12 columns</p>\n",
       "</div>"
      ],
      "text/plain": [
       "             Adj Close              Close               High         \\\n",
       "                  AAPL   ^IRX        AAPL   ^IRX        AAPL   ^IRX   \n",
       "Date                                                                  \n",
       "2011-01-01   10.390039  0.145   12.118571  0.145   12.450000  0.160   \n",
       "2011-02-01   10.815357  0.135   12.614643  0.135   13.032143  0.155   \n",
       "2011-03-01   10.671437  0.090   12.446786  0.090   12.916786  0.140   \n",
       "2011-04-01   10.721047  0.040   12.504643  0.040   12.683214  0.090   \n",
       "2011-05-01   10.650619  0.040   12.422500  0.040   12.565357  0.055   \n",
       "...                ...    ...         ...    ...         ...    ...   \n",
       "2020-08-31         NaN    NaN         NaN    NaN         NaN    NaN   \n",
       "2020-09-01  114.902199  0.085  115.809998  0.085  137.979996  0.110   \n",
       "2020-10-01  108.006676  0.083  108.860001  0.083  125.389999  0.100   \n",
       "2020-11-01  118.116806  0.075  119.050003  0.075  121.989998  0.095   \n",
       "2020-12-01  131.877014  0.065  132.690002  0.065  138.789993  0.090   \n",
       "\n",
       "                   Low               Open               Volume       \n",
       "                  AAPL   ^IRX        AAPL   ^IRX          AAPL ^IRX  \n",
       "Date                                                                 \n",
       "2011-01-01   11.601429  0.110   11.630000  0.135  1.084154e+10  0.0  \n",
       "2011-02-01   12.061429  0.075   12.189286  0.150  9.295950e+09  0.0  \n",
       "2011-03-01   11.652143  0.060   12.695357  0.140  1.130646e+10  0.0  \n",
       "2011-04-01   11.434286  0.015   12.539643  0.045  9.253829e+09  0.0  \n",
       "2011-05-01   11.765000  0.005   12.490714  0.040  6.912060e+09  0.0  \n",
       "...                ...    ...         ...    ...           ...  ...  \n",
       "2020-08-31         NaN    NaN         NaN    NaN           NaN  NaN  \n",
       "2020-09-01  103.099998  0.075  132.759995  0.100  3.885245e+09  0.0  \n",
       "2020-10-01  107.720001  0.080  117.639999  0.088  2.894666e+09  0.0  \n",
       "2020-11-01  107.320000  0.048  109.110001  0.083  2.123077e+09  0.0  \n",
       "2020-12-01  120.010002  0.060  121.010002  0.080  2.322190e+09  0.0  \n",
       "\n",
       "[131 rows x 12 columns]"
      ]
     },
     "execution_count": 4,
     "metadata": {},
     "output_type": "execute_result"
    }
   ],
   "source": [
    "data = yf.download(f'{symbol} ^IRX',start = start,end=end,interval = freq)\n",
    "data"
   ]
  },
  {
   "cell_type": "code",
   "execution_count": 5,
   "id": "a185238d",
   "metadata": {},
   "outputs": [
    {
     "data": {
      "text/html": [
       "<div>\n",
       "<style scoped>\n",
       "    .dataframe tbody tr th:only-of-type {\n",
       "        vertical-align: middle;\n",
       "    }\n",
       "\n",
       "    .dataframe tbody tr th {\n",
       "        vertical-align: top;\n",
       "    }\n",
       "\n",
       "    .dataframe thead th {\n",
       "        text-align: right;\n",
       "    }\n",
       "</style>\n",
       "<table border=\"1\" class=\"dataframe\">\n",
       "  <thead>\n",
       "    <tr style=\"text-align: right;\">\n",
       "      <th></th>\n",
       "      <th>AAPL</th>\n",
       "      <th>^IRX</th>\n",
       "    </tr>\n",
       "    <tr>\n",
       "      <th>Date</th>\n",
       "      <th></th>\n",
       "      <th></th>\n",
       "    </tr>\n",
       "  </thead>\n",
       "  <tbody>\n",
       "    <tr>\n",
       "      <th>2011-01-01</th>\n",
       "      <td>12.118571</td>\n",
       "      <td>0.145</td>\n",
       "    </tr>\n",
       "    <tr>\n",
       "      <th>2011-02-01</th>\n",
       "      <td>12.614643</td>\n",
       "      <td>0.135</td>\n",
       "    </tr>\n",
       "    <tr>\n",
       "      <th>2011-03-01</th>\n",
       "      <td>12.446786</td>\n",
       "      <td>0.090</td>\n",
       "    </tr>\n",
       "    <tr>\n",
       "      <th>2011-04-01</th>\n",
       "      <td>12.504643</td>\n",
       "      <td>0.040</td>\n",
       "    </tr>\n",
       "    <tr>\n",
       "      <th>2011-05-01</th>\n",
       "      <td>12.422500</td>\n",
       "      <td>0.040</td>\n",
       "    </tr>\n",
       "  </tbody>\n",
       "</table>\n",
       "</div>"
      ],
      "text/plain": [
       "                 AAPL   ^IRX\n",
       "Date                        \n",
       "2011-01-01  12.118571  0.145\n",
       "2011-02-01  12.614643  0.135\n",
       "2011-03-01  12.446786  0.090\n",
       "2011-04-01  12.504643  0.040\n",
       "2011-05-01  12.422500  0.040"
      ]
     },
     "execution_count": 5,
     "metadata": {},
     "output_type": "execute_result"
    }
   ],
   "source": [
    "data.dropna(axis=0,how='all',inplace=True)\n",
    "data = pd.DataFrame(data)\n",
    "data = pd.DataFrame(data['Close'])\n",
    "data[:5]"
   ]
  },
  {
   "cell_type": "code",
   "execution_count": 6,
   "id": "a8180d2b",
   "metadata": {
    "scrolled": true
   },
   "outputs": [],
   "source": [
    "payload=pd.read_html('https://en.wikipedia.org/wiki/List_of_S%26P_500_companies')\n",
    "first_table = payload[0]\n",
    "second_table = payload[1]\n",
    "df = first_table"
   ]
  },
  {
   "cell_type": "code",
   "execution_count": 7,
   "id": "b4fd9125",
   "metadata": {
    "scrolled": true
   },
   "outputs": [
    {
     "data": {
      "text/html": [
       "<div>\n",
       "<style scoped>\n",
       "    .dataframe tbody tr th:only-of-type {\n",
       "        vertical-align: middle;\n",
       "    }\n",
       "\n",
       "    .dataframe tbody tr th {\n",
       "        vertical-align: top;\n",
       "    }\n",
       "\n",
       "    .dataframe thead th {\n",
       "        text-align: right;\n",
       "    }\n",
       "</style>\n",
       "<table border=\"1\" class=\"dataframe\">\n",
       "  <thead>\n",
       "    <tr style=\"text-align: right;\">\n",
       "      <th></th>\n",
       "      <th>Symbol</th>\n",
       "      <th>Security</th>\n",
       "      <th>SEC filings</th>\n",
       "      <th>GICS Sector</th>\n",
       "      <th>GICS Sub-Industry</th>\n",
       "      <th>Headquarters Location</th>\n",
       "      <th>Date first added</th>\n",
       "      <th>CIK</th>\n",
       "      <th>Founded</th>\n",
       "    </tr>\n",
       "  </thead>\n",
       "  <tbody>\n",
       "    <tr>\n",
       "      <th>0</th>\n",
       "      <td>MMM</td>\n",
       "      <td>3M</td>\n",
       "      <td>reports</td>\n",
       "      <td>Industrials</td>\n",
       "      <td>Industrial Conglomerates</td>\n",
       "      <td>Saint Paul, Minnesota</td>\n",
       "      <td>1976-08-09</td>\n",
       "      <td>66740</td>\n",
       "      <td>1902</td>\n",
       "    </tr>\n",
       "    <tr>\n",
       "      <th>1</th>\n",
       "      <td>ABT</td>\n",
       "      <td>Abbott Laboratories</td>\n",
       "      <td>reports</td>\n",
       "      <td>Health Care</td>\n",
       "      <td>Health Care Equipment</td>\n",
       "      <td>North Chicago, Illinois</td>\n",
       "      <td>1964-03-31</td>\n",
       "      <td>1800</td>\n",
       "      <td>1888</td>\n",
       "    </tr>\n",
       "    <tr>\n",
       "      <th>2</th>\n",
       "      <td>ABBV</td>\n",
       "      <td>AbbVie</td>\n",
       "      <td>reports</td>\n",
       "      <td>Health Care</td>\n",
       "      <td>Pharmaceuticals</td>\n",
       "      <td>North Chicago, Illinois</td>\n",
       "      <td>2012-12-31</td>\n",
       "      <td>1551152</td>\n",
       "      <td>2013 (1888)</td>\n",
       "    </tr>\n",
       "    <tr>\n",
       "      <th>3</th>\n",
       "      <td>ABMD</td>\n",
       "      <td>Abiomed</td>\n",
       "      <td>reports</td>\n",
       "      <td>Health Care</td>\n",
       "      <td>Health Care Equipment</td>\n",
       "      <td>Danvers, Massachusetts</td>\n",
       "      <td>2018-05-31</td>\n",
       "      <td>815094</td>\n",
       "      <td>1981</td>\n",
       "    </tr>\n",
       "    <tr>\n",
       "      <th>4</th>\n",
       "      <td>ACN</td>\n",
       "      <td>Accenture</td>\n",
       "      <td>reports</td>\n",
       "      <td>Information Technology</td>\n",
       "      <td>IT Consulting &amp; Other Services</td>\n",
       "      <td>Dublin, Ireland</td>\n",
       "      <td>2011-07-06</td>\n",
       "      <td>1467373</td>\n",
       "      <td>1989</td>\n",
       "    </tr>\n",
       "  </tbody>\n",
       "</table>\n",
       "</div>"
      ],
      "text/plain": [
       "  Symbol             Security SEC filings             GICS Sector  \\\n",
       "0    MMM                   3M     reports             Industrials   \n",
       "1    ABT  Abbott Laboratories     reports             Health Care   \n",
       "2   ABBV               AbbVie     reports             Health Care   \n",
       "3   ABMD              Abiomed     reports             Health Care   \n",
       "4    ACN            Accenture     reports  Information Technology   \n",
       "\n",
       "                GICS Sub-Industry    Headquarters Location Date first added  \\\n",
       "0        Industrial Conglomerates    Saint Paul, Minnesota       1976-08-09   \n",
       "1           Health Care Equipment  North Chicago, Illinois       1964-03-31   \n",
       "2                 Pharmaceuticals  North Chicago, Illinois       2012-12-31   \n",
       "3           Health Care Equipment   Danvers, Massachusetts       2018-05-31   \n",
       "4  IT Consulting & Other Services          Dublin, Ireland       2011-07-06   \n",
       "\n",
       "       CIK      Founded  \n",
       "0    66740         1902  \n",
       "1     1800         1888  \n",
       "2  1551152  2013 (1888)  \n",
       "3   815094         1981  \n",
       "4  1467373         1989  "
      ]
     },
     "execution_count": 7,
     "metadata": {},
     "output_type": "execute_result"
    }
   ],
   "source": [
    "df.head()\n"
   ]
  },
  {
   "cell_type": "code",
   "execution_count": 8,
   "id": "c8860fba",
   "metadata": {},
   "outputs": [
    {
     "data": {
      "text/plain": [
       "'Information Technology'"
      ]
     },
     "execution_count": 8,
     "metadata": {},
     "output_type": "execute_result"
    }
   ],
   "source": [
    "df2=df[df['Symbol']==symbol]\n",
    "sector=df2['GICS Sector'].squeeze()\n",
    "sector"
   ]
  },
  {
   "cell_type": "code",
   "execution_count": 9,
   "id": "7330ca21",
   "metadata": {},
   "outputs": [
    {
     "data": {
      "text/html": [
       "<div>\n",
       "<style scoped>\n",
       "    .dataframe tbody tr th:only-of-type {\n",
       "        vertical-align: middle;\n",
       "    }\n",
       "\n",
       "    .dataframe tbody tr th {\n",
       "        vertical-align: top;\n",
       "    }\n",
       "\n",
       "    .dataframe thead th {\n",
       "        text-align: right;\n",
       "    }\n",
       "</style>\n",
       "<table border=\"1\" class=\"dataframe\">\n",
       "  <thead>\n",
       "    <tr style=\"text-align: right;\">\n",
       "      <th></th>\n",
       "      <th>Symbol</th>\n",
       "      <th>Security</th>\n",
       "      <th>SEC filings</th>\n",
       "      <th>GICS Sector</th>\n",
       "      <th>GICS Sub-Industry</th>\n",
       "      <th>Headquarters Location</th>\n",
       "      <th>Date first added</th>\n",
       "      <th>CIK</th>\n",
       "      <th>Founded</th>\n",
       "    </tr>\n",
       "  </thead>\n",
       "  <tbody>\n",
       "    <tr>\n",
       "      <th>385</th>\n",
       "      <td>PTC</td>\n",
       "      <td>PTC</td>\n",
       "      <td>reports</td>\n",
       "      <td>Information Technology</td>\n",
       "      <td>Application Software</td>\n",
       "      <td>Boston, Massachusetts</td>\n",
       "      <td>2021-04-20</td>\n",
       "      <td>857005</td>\n",
       "      <td>1985</td>\n",
       "    </tr>\n",
       "    <tr>\n",
       "      <th>119</th>\n",
       "      <td>CTSH</td>\n",
       "      <td>Cognizant Technology Solutions</td>\n",
       "      <td>reports</td>\n",
       "      <td>Information Technology</td>\n",
       "      <td>IT Consulting &amp; Other Services</td>\n",
       "      <td>Teaneck, New Jersey</td>\n",
       "      <td>2006-11-17</td>\n",
       "      <td>1058290</td>\n",
       "      <td>1994</td>\n",
       "    </tr>\n",
       "    <tr>\n",
       "      <th>230</th>\n",
       "      <td>HPE</td>\n",
       "      <td>Hewlett Packard Enterprise</td>\n",
       "      <td>reports</td>\n",
       "      <td>Information Technology</td>\n",
       "      <td>Technology Hardware, Storage &amp; Peripherals</td>\n",
       "      <td>Houston, Texas</td>\n",
       "      <td>2015-11-02</td>\n",
       "      <td>1645590</td>\n",
       "      <td>2015</td>\n",
       "    </tr>\n",
       "    <tr>\n",
       "      <th>53</th>\n",
       "      <td>ADSK</td>\n",
       "      <td>Autodesk</td>\n",
       "      <td>reports</td>\n",
       "      <td>Information Technology</td>\n",
       "      <td>Application Software</td>\n",
       "      <td>San Rafael, California</td>\n",
       "      <td>1989-12-01</td>\n",
       "      <td>769397</td>\n",
       "      <td>1982</td>\n",
       "    </tr>\n",
       "    <tr>\n",
       "      <th>188</th>\n",
       "      <td>FFIV</td>\n",
       "      <td>F5 Networks</td>\n",
       "      <td>reports</td>\n",
       "      <td>Information Technology</td>\n",
       "      <td>Communications Equipment</td>\n",
       "      <td>Seattle, Washington</td>\n",
       "      <td>2010-12-20</td>\n",
       "      <td>1048695</td>\n",
       "      <td>1996</td>\n",
       "    </tr>\n",
       "  </tbody>\n",
       "</table>\n",
       "</div>"
      ],
      "text/plain": [
       "    Symbol                        Security SEC filings  \\\n",
       "385    PTC                             PTC     reports   \n",
       "119   CTSH  Cognizant Technology Solutions     reports   \n",
       "230    HPE      Hewlett Packard Enterprise     reports   \n",
       "53    ADSK                        Autodesk     reports   \n",
       "188   FFIV                     F5 Networks     reports   \n",
       "\n",
       "                GICS Sector                           GICS Sub-Industry  \\\n",
       "385  Information Technology                        Application Software   \n",
       "119  Information Technology              IT Consulting & Other Services   \n",
       "230  Information Technology  Technology Hardware, Storage & Peripherals   \n",
       "53   Information Technology                        Application Software   \n",
       "188  Information Technology                    Communications Equipment   \n",
       "\n",
       "      Headquarters Location Date first added      CIK Founded  \n",
       "385   Boston, Massachusetts       2021-04-20   857005    1985  \n",
       "119     Teaneck, New Jersey       2006-11-17  1058290    1994  \n",
       "230          Houston, Texas       2015-11-02  1645590    2015  \n",
       "53   San Rafael, California       1989-12-01   769397    1982  \n",
       "188     Seattle, Washington       2010-12-20  1048695    1996  "
      ]
     },
     "execution_count": 9,
     "metadata": {},
     "output_type": "execute_result"
    }
   ],
   "source": [
    "df3=df[df['GICS Sector']==sector].sample(n=5)\n",
    "df3"
   ]
  },
  {
   "cell_type": "code",
   "execution_count": 10,
   "id": "0e737854",
   "metadata": {},
   "outputs": [
    {
     "data": {
      "text/plain": [
       "'CTSH'"
      ]
     },
     "execution_count": 10,
     "metadata": {},
     "output_type": "execute_result"
    }
   ],
   "source": [
    "comp2=df3['Symbol'][1:2].squeeze()\n",
    "comp2"
   ]
  },
  {
   "cell_type": "code",
   "execution_count": 11,
   "id": "eaf945c6",
   "metadata": {},
   "outputs": [
    {
     "data": {
      "text/plain": [
       "'HPE'"
      ]
     },
     "execution_count": 11,
     "metadata": {},
     "output_type": "execute_result"
    }
   ],
   "source": [
    "comp3=df3['Symbol'][2:3].squeeze()\n",
    "comp3"
   ]
  },
  {
   "cell_type": "code",
   "execution_count": 12,
   "id": "163f6e2b",
   "metadata": {},
   "outputs": [
    {
     "data": {
      "text/plain": [
       "'ADSK'"
      ]
     },
     "execution_count": 12,
     "metadata": {},
     "output_type": "execute_result"
    }
   ],
   "source": [
    "comp4=df3['Symbol'][3:4].squeeze()\n",
    "comp4"
   ]
  },
  {
   "cell_type": "code",
   "execution_count": 13,
   "id": "664069b5",
   "metadata": {},
   "outputs": [
    {
     "data": {
      "text/plain": [
       "4.563512442542399"
      ]
     },
     "execution_count": 13,
     "metadata": {},
     "output_type": "execute_result"
    }
   ],
   "source": [
    "#DEBT EQUITY RATIO\n",
    "FMP_API = \"2a3b1c3b6cd7c197fd1e956a00d0e1b1\"\n",
    "\n",
    "bs    = \"balance-sheet-statement\"\n",
    "tickers = [symbol]\n",
    "     \n",
    "bs_list = []\n",
    "     \n",
    "for ticker in tickers:\n",
    "    url = \"https://financialmodelingprep.com/api/v3/\" + bs + \"/\" + ticker + \"?limit=120&apikey=\" + FMP_API\n",
    "    bs = pd.read_json(url)\n",
    "    bs.set_index('date', inplace=True)\n",
    "     \n",
    "    bs[symbol] = bs.totalLiabilities / bs.totalStockholdersEquity\n",
    "    bs_list.append(bs[ticker])\n",
    "     \n",
    "#df_final = pd.concat(df_list, axis=1)\n",
    "#print(df_final)\n",
    "deratio=bs[symbol][0]\n",
    "deratio"
   ]
  },
  {
   "cell_type": "code",
   "execution_count": 14,
   "id": "94470ee6",
   "metadata": {},
   "outputs": [
    {
     "data": {
      "text/plain": [
       "0.5617386489479512"
      ]
     },
     "execution_count": 14,
     "metadata": {},
     "output_type": "execute_result"
    }
   ],
   "source": [
    "#DEBT EQUITY RATIO\n",
    "FMP_API = \"2a3b1c3b6cd7c197fd1e956a00d0e1b1\"\n",
    "\n",
    "bs    = \"balance-sheet-statement\"\n",
    "tickers = [comp2]\n",
    "     \n",
    "bs_list = []\n",
    "     \n",
    "for ticker in tickers:\n",
    "    url = \"https://financialmodelingprep.com/api/v3/\" + bs + \"/\" + comp2 + \"?limit=120&apikey=\" + FMP_API\n",
    "    bs = pd.read_json(url)\n",
    "    bs.set_index('date', inplace=True)\n",
    "     \n",
    "    bs[comp2] = bs.totalLiabilities / bs.totalStockholdersEquity\n",
    "    bs_list.append(bs[ticker])\n",
    "     \n",
    "#df_final = pd.concat(df_list, axis=1)\n",
    "#print(df_final)\n",
    "deratio2=bs[comp2][0]\n",
    "deratio2"
   ]
  },
  {
   "cell_type": "code",
   "execution_count": 15,
   "id": "6bc5ef5f",
   "metadata": {},
   "outputs": [
    {
     "data": {
      "text/plain": [
       "2.3558026838966204"
      ]
     },
     "execution_count": 15,
     "metadata": {},
     "output_type": "execute_result"
    }
   ],
   "source": [
    "#DEBT EQUITY RATIO\n",
    "FMP_API = \"2a3b1c3b6cd7c197fd1e956a00d0e1b1\"\n",
    "\n",
    "bs    = \"balance-sheet-statement\"\n",
    "tickers = [comp3]\n",
    "     \n",
    "bs_list = []\n",
    "     \n",
    "for ticker in tickers:\n",
    "    url = \"https://financialmodelingprep.com/api/v3/\" + bs + \"/\" + comp3 + \"?limit=120&apikey=\" + FMP_API\n",
    "    bs = pd.read_json(url)\n",
    "    bs.set_index('date', inplace=True)\n",
    "     \n",
    "    bs[comp3] = bs.totalLiabilities / bs.totalStockholdersEquity\n",
    "    bs_list.append(bs[comp3])\n",
    "     \n",
    "#df_final = pd.concat(df_list, axis=1)\n",
    "#print(df_final)\n",
    "deratio3=bs[comp3][0]\n",
    "deratio3"
   ]
  },
  {
   "cell_type": "code",
   "execution_count": 16,
   "id": "97e9c5b4",
   "metadata": {},
   "outputs": [
    {
     "data": {
      "text/plain": [
       "6.539927498705334"
      ]
     },
     "execution_count": 16,
     "metadata": {},
     "output_type": "execute_result"
    }
   ],
   "source": [
    "#DEBT EQUITY RATIO\n",
    "FMP_API = \"2a3b1c3b6cd7c197fd1e956a00d0e1b1\"\n",
    "\n",
    "bs    = \"balance-sheet-statement\"\n",
    "tickers = [comp4]\n",
    "     \n",
    "bs_list = []\n",
    "     \n",
    "for ticker in tickers:\n",
    "    url = \"https://financialmodelingprep.com/api/v3/\" + bs + \"/\" + comp4 + \"?limit=120&apikey=\" + FMP_API\n",
    "    bs = pd.read_json(url)\n",
    "    bs.set_index('date', inplace=True)\n",
    "     \n",
    "    bs[comp4] = bs.totalLiabilities / bs.totalStockholdersEquity\n",
    "    bs_list.append(bs[comp4])\n",
    "     \n",
    "#df_final = pd.concat(df_list, axis=1)\n",
    "#print(df_final)\n",
    "deratio4=bs[comp4][0]\n",
    "deratio4"
   ]
  },
  {
   "cell_type": "code",
   "execution_count": 17,
   "id": "7b0a96ef",
   "metadata": {},
   "outputs": [],
   "source": [
    "#Automatically determine comparable companies based upon SIC code, GICS code, or any other methodology\n",
    "#(or, at a minimum, query the user for a set of comparable tickers, but make sure you do exception handling if\n",
    "#the dates/data are unavailable for chosen tickers). \n"
   ]
  },
  {
   "cell_type": "code",
   "execution_count": 18,
   "id": "abeec9d7",
   "metadata": {},
   "outputs": [
    {
     "name": "stdout",
     "output_type": "stream",
     "text": [
      "The comparative debt equity ratio is is  3.15248961\n"
     ]
    }
   ],
   "source": [
    "compde_list = [deratio2, deratio3, deratio4]\n",
    "compde= sum(compde_list)/len(compde_list)\n",
    "print(\"The comparative debt equity ratio is is \", round(compde,8))"
   ]
  },
  {
   "cell_type": "code",
   "execution_count": 19,
   "id": "d8704941",
   "metadata": {},
   "outputs": [],
   "source": [
    "#collect  effective tax rate (21%), D/E ratio()#pull, equity beta (run regression)"
   ]
  },
  {
   "cell_type": "code",
   "execution_count": 20,
   "id": "9951538d",
   "metadata": {},
   "outputs": [],
   "source": [
    "#for each comparable (and the target company), you will have to query the user as to which capital structure\n",
    "#assumption applies (e.g., constant debt or constant D/E)."
   ]
  },
  {
   "cell_type": "code",
   "execution_count": 21,
   "id": "d28f447d",
   "metadata": {},
   "outputs": [],
   "source": [
    "#Run the unlever/relever process and determine the equity beta and report to the user. "
   ]
  },
  {
   "cell_type": "code",
   "execution_count": null,
   "id": "469b15bf",
   "metadata": {},
   "outputs": [],
   "source": []
  },
  {
   "cell_type": "code",
   "execution_count": 22,
   "id": "48be678e",
   "metadata": {},
   "outputs": [],
   "source": [
    "#calculate the monthly return\n",
    "stock_ret = data[{symbol}].pct_change()\n",
    "mark_ret = data['^IRX'].pct_change()"
   ]
  },
  {
   "cell_type": "code",
   "execution_count": 23,
   "id": "f13971bc",
   "metadata": {},
   "outputs": [],
   "source": [
    "data['^IRX'] = data['^IRX']/100"
   ]
  },
  {
   "cell_type": "code",
   "execution_count": 24,
   "id": "24e1c0c3",
   "metadata": {},
   "outputs": [],
   "source": [
    "data['Stock Returns'] = stock_ret\n",
    "data['Market Returns'] = mark_ret"
   ]
  },
  {
   "cell_type": "code",
   "execution_count": 25,
   "id": "24fb0fb5",
   "metadata": {},
   "outputs": [],
   "source": [
    "data['Stock Returns'] = data['Stock Returns'].apply(lambda x: float(x))\n",
    "data['Market Returns'] = data['Market Returns'].apply(lambda x: float(x))\n",
    "data['^IRX'] = data['^IRX'].apply(lambda x: float(x))"
   ]
  },
  {
   "cell_type": "code",
   "execution_count": 26,
   "id": "1910bf6d",
   "metadata": {},
   "outputs": [
    {
     "data": {
      "text/html": [
       "<div>\n",
       "<style scoped>\n",
       "    .dataframe tbody tr th:only-of-type {\n",
       "        vertical-align: middle;\n",
       "    }\n",
       "\n",
       "    .dataframe tbody tr th {\n",
       "        vertical-align: top;\n",
       "    }\n",
       "\n",
       "    .dataframe thead th {\n",
       "        text-align: right;\n",
       "    }\n",
       "</style>\n",
       "<table border=\"1\" class=\"dataframe\">\n",
       "  <thead>\n",
       "    <tr style=\"text-align: right;\">\n",
       "      <th></th>\n",
       "      <th>AAPL</th>\n",
       "      <th>^IRX</th>\n",
       "      <th>Stock Returns</th>\n",
       "      <th>Market Returns</th>\n",
       "      <th>Stock Premia</th>\n",
       "      <th>Market Premia</th>\n",
       "    </tr>\n",
       "    <tr>\n",
       "      <th>Date</th>\n",
       "      <th></th>\n",
       "      <th></th>\n",
       "      <th></th>\n",
       "      <th></th>\n",
       "      <th></th>\n",
       "      <th></th>\n",
       "    </tr>\n",
       "  </thead>\n",
       "  <tbody>\n",
       "    <tr>\n",
       "      <th>2011-01-01</th>\n",
       "      <td>12.118571</td>\n",
       "      <td>0.00145</td>\n",
       "      <td>NaN</td>\n",
       "      <td>NaN</td>\n",
       "      <td>NaN</td>\n",
       "      <td>NaN</td>\n",
       "    </tr>\n",
       "    <tr>\n",
       "      <th>2011-02-01</th>\n",
       "      <td>12.614643</td>\n",
       "      <td>0.00135</td>\n",
       "      <td>0.040935</td>\n",
       "      <td>-0.068965</td>\n",
       "      <td>0.039585</td>\n",
       "      <td>-0.070315</td>\n",
       "    </tr>\n",
       "    <tr>\n",
       "      <th>2011-03-01</th>\n",
       "      <td>12.446786</td>\n",
       "      <td>0.00090</td>\n",
       "      <td>-0.013307</td>\n",
       "      <td>-0.333333</td>\n",
       "      <td>-0.014207</td>\n",
       "      <td>-0.334233</td>\n",
       "    </tr>\n",
       "    <tr>\n",
       "      <th>2011-04-01</th>\n",
       "      <td>12.504643</td>\n",
       "      <td>0.00040</td>\n",
       "      <td>0.004648</td>\n",
       "      <td>-0.555556</td>\n",
       "      <td>0.004248</td>\n",
       "      <td>-0.555956</td>\n",
       "    </tr>\n",
       "    <tr>\n",
       "      <th>2011-05-01</th>\n",
       "      <td>12.422500</td>\n",
       "      <td>0.00040</td>\n",
       "      <td>-0.006569</td>\n",
       "      <td>0.000000</td>\n",
       "      <td>-0.006969</td>\n",
       "      <td>-0.000400</td>\n",
       "    </tr>\n",
       "  </tbody>\n",
       "</table>\n",
       "</div>"
      ],
      "text/plain": [
       "                 AAPL     ^IRX  Stock Returns  Market Returns  Stock Premia  \\\n",
       "Date                                                                          \n",
       "2011-01-01  12.118571  0.00145            NaN             NaN           NaN   \n",
       "2011-02-01  12.614643  0.00135       0.040935       -0.068965      0.039585   \n",
       "2011-03-01  12.446786  0.00090      -0.013307       -0.333333     -0.014207   \n",
       "2011-04-01  12.504643  0.00040       0.004648       -0.555556      0.004248   \n",
       "2011-05-01  12.422500  0.00040      -0.006569        0.000000     -0.006969   \n",
       "\n",
       "            Market Premia  \n",
       "Date                       \n",
       "2011-01-01            NaN  \n",
       "2011-02-01      -0.070315  \n",
       "2011-03-01      -0.334233  \n",
       "2011-04-01      -0.555956  \n",
       "2011-05-01      -0.000400  "
      ]
     },
     "execution_count": 26,
     "metadata": {},
     "output_type": "execute_result"
    }
   ],
   "source": [
    "#calculate risk premium of the stock and the market risk premium.\n",
    "data['Stock Premia'] = data['Stock Returns'] - data['^IRX']\n",
    "data['Market Premia'] = data['Market Returns'] - data['^IRX']\n",
    "data.iloc[0:5]"
   ]
  },
  {
   "cell_type": "code",
   "execution_count": 27,
   "id": "c63292ed",
   "metadata": {},
   "outputs": [
    {
     "data": {
      "text/plain": [
       "<matplotlib.collections.PathCollection at 0x7f88a3639be0>"
      ]
     },
     "execution_count": 27,
     "metadata": {},
     "output_type": "execute_result"
    },
    {
     "data": {
      "image/png": "[encoded data removed]",
      "text/plain": [
       "<Figure size 432x288 with 1 Axes>"
      ]
     },
     "metadata": {
      "needs_background": "light"
     },
     "output_type": "display_data"
    }
   ],
   "source": [
    "#scatter plot for risk premium of the stock and the market risk premium.\n",
    "x = np.array(data['Market Premia'][1:])\n",
    "y = np.array(data['Stock Premia'][1:])\n",
    "plt.scatter(x,y)"
   ]
  },
  {
   "cell_type": "code",
   "execution_count": 28,
   "id": "743140cd",
   "metadata": {},
   "outputs": [
    {
     "name": "stdout",
     "output_type": "stream",
     "text": [
      "                            OLS Regression Results                            \n",
      "==============================================================================\n",
      "Dep. Variable:                      y   R-squared:                       0.019\n",
      "Model:                            OLS   Adj. R-squared:                  0.010\n",
      "Method:                 Least Squares   F-statistic:                     2.212\n",
      "Date:                Sun, 07 Nov 2021   Prob (F-statistic):              0.140\n",
      "Time:                        14:04:08   Log-Likelihood:                 133.17\n",
      "No. Observations:                 119   AIC:                            -262.3\n",
      "Df Residuals:                     117   BIC:                            -256.8\n",
      "Df Model:                           1                                         \n",
      "Covariance Type:            nonrobust                                         \n",
      "==============================================================================\n",
      "                 coef    std err          t      P>|t|      [0.025      0.975]\n",
      "------------------------------------------------------------------------------\n",
      "Intercept      0.0151      0.008      2.014      0.046       0.000       0.030\n",
      "x              0.0059      0.004      1.487      0.140      -0.002       0.014\n",
      "==============================================================================\n",
      "Omnibus:                        0.541   Durbin-Watson:                   1.749\n",
      "Prob(Omnibus):                  0.763   Jarque-Bera (JB):                0.567\n",
      "Skew:                          -0.157   Prob(JB):                        0.753\n",
      "Kurtosis:                       2.876   Cond. No.                         1.98\n",
      "==============================================================================\n",
      "\n",
      "Notes:\n",
      "[1] Standard Errors assume that the covariance matrix of the errors is correctly specified.\n"
     ]
    }
   ],
   "source": [
    "#time series regression with summary statistics\n",
    "import statsmodels.formula.api as smf\n",
    "d = { \"x\": pd.Series(x), \"y\": pd.Series(y)}\n",
    "df = pd.DataFrame(d)\n",
    "mod = smf.ols('y ~ x', data=df)\n",
    "res = mod.fit()\n",
    "print(res.summary())"
   ]
  },
  {
   "cell_type": "code",
   "execution_count": 29,
   "id": "3acd185d",
   "metadata": {},
   "outputs": [],
   "source": [
    "#time series regression with summary statistics\n",
    "x = np.array(data['Market Premia'][1:]).reshape((-1,1))\n",
    "y = np.array(data['Stock Premia'][1:]).reshape((-1,1))\n",
    "model = LinearRegression()\n",
    "model = model.fit(x,y)\n"
   ]
  },
  {
   "cell_type": "code",
   "execution_count": 30,
   "id": "f0b6c90b",
   "metadata": {},
   "outputs": [
    {
     "name": "stdout",
     "output_type": "stream",
     "text": [
      "[*********************100%***********************]  4 of 4 completed\n"
     ]
    },
    {
     "data": {
      "text/html": [
       "<div>\n",
       "<style scoped>\n",
       "    .dataframe tbody tr th:only-of-type {\n",
       "        vertical-align: middle;\n",
       "    }\n",
       "\n",
       "    .dataframe tbody tr th {\n",
       "        vertical-align: top;\n",
       "    }\n",
       "\n",
       "    .dataframe thead tr th {\n",
       "        text-align: left;\n",
       "    }\n",
       "\n",
       "    .dataframe thead tr:last-of-type th {\n",
       "        text-align: right;\n",
       "    }\n",
       "</style>\n",
       "<table border=\"1\" class=\"dataframe\">\n",
       "  <thead>\n",
       "    <tr>\n",
       "      <th></th>\n",
       "      <th colspan=\"4\" halign=\"left\">Adj Close</th>\n",
       "      <th colspan=\"4\" halign=\"left\">Close</th>\n",
       "      <th colspan=\"2\" halign=\"left\">High</th>\n",
       "      <th>...</th>\n",
       "      <th colspan=\"2\" halign=\"left\">Low</th>\n",
       "      <th colspan=\"4\" halign=\"left\">Open</th>\n",
       "      <th colspan=\"4\" halign=\"left\">Volume</th>\n",
       "    </tr>\n",
       "    <tr>\n",
       "      <th></th>\n",
       "      <th>ADSK</th>\n",
       "      <th>CTSH</th>\n",
       "      <th>HPE</th>\n",
       "      <th>^IRX</th>\n",
       "      <th>ADSK</th>\n",
       "      <th>CTSH</th>\n",
       "      <th>HPE</th>\n",
       "      <th>^IRX</th>\n",
       "      <th>ADSK</th>\n",
       "      <th>CTSH</th>\n",
       "      <th>...</th>\n",
       "      <th>HPE</th>\n",
       "      <th>^IRX</th>\n",
       "      <th>ADSK</th>\n",
       "      <th>CTSH</th>\n",
       "      <th>HPE</th>\n",
       "      <th>^IRX</th>\n",
       "      <th>ADSK</th>\n",
       "      <th>CTSH</th>\n",
       "      <th>HPE</th>\n",
       "      <th>^IRX</th>\n",
       "    </tr>\n",
       "    <tr>\n",
       "      <th>Date</th>\n",
       "      <th></th>\n",
       "      <th></th>\n",
       "      <th></th>\n",
       "      <th></th>\n",
       "      <th></th>\n",
       "      <th></th>\n",
       "      <th></th>\n",
       "      <th></th>\n",
       "      <th></th>\n",
       "      <th></th>\n",
       "      <th></th>\n",
       "      <th></th>\n",
       "      <th></th>\n",
       "      <th></th>\n",
       "      <th></th>\n",
       "      <th></th>\n",
       "      <th></th>\n",
       "      <th></th>\n",
       "      <th></th>\n",
       "      <th></th>\n",
       "      <th></th>\n",
       "    </tr>\n",
       "  </thead>\n",
       "  <tbody>\n",
       "    <tr>\n",
       "      <th>2011-01-01</th>\n",
       "      <td>40.680000</td>\n",
       "      <td>34.602367</td>\n",
       "      <td>NaN</td>\n",
       "      <td>0.145</td>\n",
       "      <td>40.680000</td>\n",
       "      <td>36.474998</td>\n",
       "      <td>NaN</td>\n",
       "      <td>0.145</td>\n",
       "      <td>42.320000</td>\n",
       "      <td>38.224998</td>\n",
       "      <td>...</td>\n",
       "      <td>NaN</td>\n",
       "      <td>0.110</td>\n",
       "      <td>38.630001</td>\n",
       "      <td>37.070000</td>\n",
       "      <td>NaN</td>\n",
       "      <td>0.135</td>\n",
       "      <td>54281900.0</td>\n",
       "      <td>90624200.0</td>\n",
       "      <td>NaN</td>\n",
       "      <td>0.0</td>\n",
       "    </tr>\n",
       "    <tr>\n",
       "      <th>2011-02-01</th>\n",
       "      <td>42.049999</td>\n",
       "      <td>36.461758</td>\n",
       "      <td>NaN</td>\n",
       "      <td>0.135</td>\n",
       "      <td>42.049999</td>\n",
       "      <td>38.435001</td>\n",
       "      <td>NaN</td>\n",
       "      <td>0.135</td>\n",
       "      <td>44.439999</td>\n",
       "      <td>38.869999</td>\n",
       "      <td>...</td>\n",
       "      <td>NaN</td>\n",
       "      <td>0.075</td>\n",
       "      <td>41.000000</td>\n",
       "      <td>36.680000</td>\n",
       "      <td>NaN</td>\n",
       "      <td>0.150</td>\n",
       "      <td>54287300.0</td>\n",
       "      <td>94836400.0</td>\n",
       "      <td>NaN</td>\n",
       "      <td>0.0</td>\n",
       "    </tr>\n",
       "    <tr>\n",
       "      <th>2011-03-01</th>\n",
       "      <td>44.110001</td>\n",
       "      <td>38.610466</td>\n",
       "      <td>NaN</td>\n",
       "      <td>0.090</td>\n",
       "      <td>44.110001</td>\n",
       "      <td>40.700001</td>\n",
       "      <td>NaN</td>\n",
       "      <td>0.090</td>\n",
       "      <td>44.430000</td>\n",
       "      <td>40.924999</td>\n",
       "      <td>...</td>\n",
       "      <td>NaN</td>\n",
       "      <td>0.060</td>\n",
       "      <td>42.130001</td>\n",
       "      <td>38.525002</td>\n",
       "      <td>NaN</td>\n",
       "      <td>0.140</td>\n",
       "      <td>62006400.0</td>\n",
       "      <td>105667000.0</td>\n",
       "      <td>NaN</td>\n",
       "      <td>0.0</td>\n",
       "    </tr>\n",
       "    <tr>\n",
       "      <th>2011-04-01</th>\n",
       "      <td>44.980000</td>\n",
       "      <td>39.321968</td>\n",
       "      <td>NaN</td>\n",
       "      <td>0.040</td>\n",
       "      <td>44.980000</td>\n",
       "      <td>41.450001</td>\n",
       "      <td>NaN</td>\n",
       "      <td>0.040</td>\n",
       "      <td>45.599998</td>\n",
       "      <td>41.615002</td>\n",
       "      <td>...</td>\n",
       "      <td>NaN</td>\n",
       "      <td>0.015</td>\n",
       "      <td>43.070000</td>\n",
       "      <td>40.915001</td>\n",
       "      <td>NaN</td>\n",
       "      <td>0.045</td>\n",
       "      <td>45234900.0</td>\n",
       "      <td>81631800.0</td>\n",
       "      <td>NaN</td>\n",
       "      <td>0.0</td>\n",
       "    </tr>\n",
       "    <tr>\n",
       "      <th>2011-05-01</th>\n",
       "      <td>42.980000</td>\n",
       "      <td>36.068050</td>\n",
       "      <td>NaN</td>\n",
       "      <td>0.040</td>\n",
       "      <td>42.980000</td>\n",
       "      <td>38.020000</td>\n",
       "      <td>NaN</td>\n",
       "      <td>0.040</td>\n",
       "      <td>46.150002</td>\n",
       "      <td>41.740002</td>\n",
       "      <td>...</td>\n",
       "      <td>NaN</td>\n",
       "      <td>0.005</td>\n",
       "      <td>45.320000</td>\n",
       "      <td>41.724998</td>\n",
       "      <td>NaN</td>\n",
       "      <td>0.040</td>\n",
       "      <td>55348900.0</td>\n",
       "      <td>130665200.0</td>\n",
       "      <td>NaN</td>\n",
       "      <td>0.0</td>\n",
       "    </tr>\n",
       "    <tr>\n",
       "      <th>...</th>\n",
       "      <td>...</td>\n",
       "      <td>...</td>\n",
       "      <td>...</td>\n",
       "      <td>...</td>\n",
       "      <td>...</td>\n",
       "      <td>...</td>\n",
       "      <td>...</td>\n",
       "      <td>...</td>\n",
       "      <td>...</td>\n",
       "      <td>...</td>\n",
       "      <td>...</td>\n",
       "      <td>...</td>\n",
       "      <td>...</td>\n",
       "      <td>...</td>\n",
       "      <td>...</td>\n",
       "      <td>...</td>\n",
       "      <td>...</td>\n",
       "      <td>...</td>\n",
       "      <td>...</td>\n",
       "      <td>...</td>\n",
       "      <td>...</td>\n",
       "    </tr>\n",
       "    <tr>\n",
       "      <th>2020-08-01</th>\n",
       "      <td>245.699997</td>\n",
       "      <td>65.809509</td>\n",
       "      <td>9.229780</td>\n",
       "      <td>0.095</td>\n",
       "      <td>245.699997</td>\n",
       "      <td>66.860001</td>\n",
       "      <td>9.67</td>\n",
       "      <td>0.095</td>\n",
       "      <td>254.350006</td>\n",
       "      <td>68.680000</td>\n",
       "      <td>...</td>\n",
       "      <td>9.120</td>\n",
       "      <td>0.075</td>\n",
       "      <td>239.419998</td>\n",
       "      <td>66.849998</td>\n",
       "      <td>9.87</td>\n",
       "      <td>0.083</td>\n",
       "      <td>25469000.0</td>\n",
       "      <td>45862300.0</td>\n",
       "      <td>212761400.0</td>\n",
       "      <td>0.0</td>\n",
       "    </tr>\n",
       "    <tr>\n",
       "      <th>2020-09-01</th>\n",
       "      <td>231.009995</td>\n",
       "      <td>68.554756</td>\n",
       "      <td>8.943438</td>\n",
       "      <td>0.085</td>\n",
       "      <td>231.009995</td>\n",
       "      <td>69.419998</td>\n",
       "      <td>9.37</td>\n",
       "      <td>0.085</td>\n",
       "      <td>261.940002</td>\n",
       "      <td>71.809998</td>\n",
       "      <td>...</td>\n",
       "      <td>8.835</td>\n",
       "      <td>0.075</td>\n",
       "      <td>247.990005</td>\n",
       "      <td>66.260002</td>\n",
       "      <td>9.67</td>\n",
       "      <td>0.100</td>\n",
       "      <td>32795700.0</td>\n",
       "      <td>67855700.0</td>\n",
       "      <td>239456800.0</td>\n",
       "      <td>0.0</td>\n",
       "    </tr>\n",
       "    <tr>\n",
       "      <th>2020-10-01</th>\n",
       "      <td>235.539993</td>\n",
       "      <td>70.529823</td>\n",
       "      <td>8.351168</td>\n",
       "      <td>0.083</td>\n",
       "      <td>235.539993</td>\n",
       "      <td>71.419998</td>\n",
       "      <td>8.64</td>\n",
       "      <td>0.083</td>\n",
       "      <td>268.440002</td>\n",
       "      <td>76.449997</td>\n",
       "      <td>...</td>\n",
       "      <td>8.285</td>\n",
       "      <td>0.080</td>\n",
       "      <td>232.759995</td>\n",
       "      <td>70.220001</td>\n",
       "      <td>9.43</td>\n",
       "      <td>0.088</td>\n",
       "      <td>31278000.0</td>\n",
       "      <td>83055600.0</td>\n",
       "      <td>218305500.0</td>\n",
       "      <td>0.0</td>\n",
       "    </tr>\n",
       "    <tr>\n",
       "      <th>2020-11-01</th>\n",
       "      <td>280.230011</td>\n",
       "      <td>77.156197</td>\n",
       "      <td>10.670937</td>\n",
       "      <td>0.075</td>\n",
       "      <td>280.230011</td>\n",
       "      <td>78.129997</td>\n",
       "      <td>11.04</td>\n",
       "      <td>0.075</td>\n",
       "      <td>282.489990</td>\n",
       "      <td>79.000000</td>\n",
       "      <td>...</td>\n",
       "      <td>8.645</td>\n",
       "      <td>0.048</td>\n",
       "      <td>237.199997</td>\n",
       "      <td>71.470001</td>\n",
       "      <td>8.79</td>\n",
       "      <td>0.083</td>\n",
       "      <td>31507300.0</td>\n",
       "      <td>52642700.0</td>\n",
       "      <td>242105300.0</td>\n",
       "      <td>0.0</td>\n",
       "    </tr>\n",
       "    <tr>\n",
       "      <th>2020-12-01</th>\n",
       "      <td>305.339996</td>\n",
       "      <td>81.160477</td>\n",
       "      <td>11.453859</td>\n",
       "      <td>0.065</td>\n",
       "      <td>305.339996</td>\n",
       "      <td>81.949997</td>\n",
       "      <td>11.85</td>\n",
       "      <td>0.065</td>\n",
       "      <td>307.220001</td>\n",
       "      <td>82.730003</td>\n",
       "      <td>...</td>\n",
       "      <td>11.000</td>\n",
       "      <td>0.060</td>\n",
       "      <td>281.869995</td>\n",
       "      <td>78.110001</td>\n",
       "      <td>11.14</td>\n",
       "      <td>0.080</td>\n",
       "      <td>27205300.0</td>\n",
       "      <td>59024000.0</td>\n",
       "      <td>222413400.0</td>\n",
       "      <td>0.0</td>\n",
       "    </tr>\n",
       "  </tbody>\n",
       "</table>\n",
       "<p>132 rows × 24 columns</p>\n",
       "</div>"
      ],
      "text/plain": [
       "             Adj Close                                    Close             \\\n",
       "                  ADSK       CTSH        HPE   ^IRX        ADSK       CTSH   \n",
       "Date                                                                         \n",
       "2011-01-01   40.680000  34.602367        NaN  0.145   40.680000  36.474998   \n",
       "2011-02-01   42.049999  36.461758        NaN  0.135   42.049999  38.435001   \n",
       "2011-03-01   44.110001  38.610466        NaN  0.090   44.110001  40.700001   \n",
       "2011-04-01   44.980000  39.321968        NaN  0.040   44.980000  41.450001   \n",
       "2011-05-01   42.980000  36.068050        NaN  0.040   42.980000  38.020000   \n",
       "...                ...        ...        ...    ...         ...        ...   \n",
       "2020-08-01  245.699997  65.809509   9.229780  0.095  245.699997  66.860001   \n",
       "2020-09-01  231.009995  68.554756   8.943438  0.085  231.009995  69.419998   \n",
       "2020-10-01  235.539993  70.529823   8.351168  0.083  235.539993  71.419998   \n",
       "2020-11-01  280.230011  77.156197  10.670937  0.075  280.230011  78.129997   \n",
       "2020-12-01  305.339996  81.160477  11.453859  0.065  305.339996  81.949997   \n",
       "\n",
       "                                High             ...     Low         \\\n",
       "              HPE   ^IRX        ADSK       CTSH  ...     HPE   ^IRX   \n",
       "Date                                             ...                  \n",
       "2011-01-01    NaN  0.145   42.320000  38.224998  ...     NaN  0.110   \n",
       "2011-02-01    NaN  0.135   44.439999  38.869999  ...     NaN  0.075   \n",
       "2011-03-01    NaN  0.090   44.430000  40.924999  ...     NaN  0.060   \n",
       "2011-04-01    NaN  0.040   45.599998  41.615002  ...     NaN  0.015   \n",
       "2011-05-01    NaN  0.040   46.150002  41.740002  ...     NaN  0.005   \n",
       "...           ...    ...         ...        ...  ...     ...    ...   \n",
       "2020-08-01   9.67  0.095  254.350006  68.680000  ...   9.120  0.075   \n",
       "2020-09-01   9.37  0.085  261.940002  71.809998  ...   8.835  0.075   \n",
       "2020-10-01   8.64  0.083  268.440002  76.449997  ...   8.285  0.080   \n",
       "2020-11-01  11.04  0.075  282.489990  79.000000  ...   8.645  0.048   \n",
       "2020-12-01  11.85  0.065  307.220001  82.730003  ...  11.000  0.060   \n",
       "\n",
       "                  Open                               Volume               \\\n",
       "                  ADSK       CTSH    HPE   ^IRX        ADSK         CTSH   \n",
       "Date                                                                       \n",
       "2011-01-01   38.630001  37.070000    NaN  0.135  54281900.0   90624200.0   \n",
       "2011-02-01   41.000000  36.680000    NaN  0.150  54287300.0   94836400.0   \n",
       "2011-03-01   42.130001  38.525002    NaN  0.140  62006400.0  105667000.0   \n",
       "2011-04-01   43.070000  40.915001    NaN  0.045  45234900.0   81631800.0   \n",
       "2011-05-01   45.320000  41.724998    NaN  0.040  55348900.0  130665200.0   \n",
       "...                ...        ...    ...    ...         ...          ...   \n",
       "2020-08-01  239.419998  66.849998   9.87  0.083  25469000.0   45862300.0   \n",
       "2020-09-01  247.990005  66.260002   9.67  0.100  32795700.0   67855700.0   \n",
       "2020-10-01  232.759995  70.220001   9.43  0.088  31278000.0   83055600.0   \n",
       "2020-11-01  237.199997  71.470001   8.79  0.083  31507300.0   52642700.0   \n",
       "2020-12-01  281.869995  78.110001  11.14  0.080  27205300.0   59024000.0   \n",
       "\n",
       "                              \n",
       "                    HPE ^IRX  \n",
       "Date                          \n",
       "2011-01-01          NaN  0.0  \n",
       "2011-02-01          NaN  0.0  \n",
       "2011-03-01          NaN  0.0  \n",
       "2011-04-01          NaN  0.0  \n",
       "2011-05-01          NaN  0.0  \n",
       "...                 ...  ...  \n",
       "2020-08-01  212761400.0  0.0  \n",
       "2020-09-01  239456800.0  0.0  \n",
       "2020-10-01  218305500.0  0.0  \n",
       "2020-11-01  242105300.0  0.0  \n",
       "2020-12-01  222413400.0  0.0  \n",
       "\n",
       "[132 rows x 24 columns]"
      ]
     },
     "execution_count": 30,
     "metadata": {},
     "output_type": "execute_result"
    }
   ],
   "source": [
    "comps = yf.download(f'{comp2},{comp3},{comp4}, ^IRX',start = start,end=end,interval = freq)\n",
    "comps"
   ]
  },
  {
   "cell_type": "code",
   "execution_count": 31,
   "id": "e6faddad",
   "metadata": {},
   "outputs": [
    {
     "name": "stdout",
     "output_type": "stream",
     "text": [
      "Summary Statistics\n",
      "----------------------------------------------------------------------------------------------------\n",
      "The number of observations in the regression is:  119\n",
      "The correlation of the risk premia of the market and your stock is:  0.1362\n",
      "The R-squared of the regression for the SCL is:  0.019\n",
      "The Adjused R-squared of the regression for the SCL is:  0.01\n",
      "The standard error of the regression is:  0.0797\n",
      "The t-test value of the beta is:  -250.383\n"
     ]
    }
   ],
   "source": [
    "#time series regression with summary statistics\n",
    "print('Summary Statistics')\n",
    "print('-'*100)\n",
    "print(f'The number of observations in the regression is: ',len(data)-1)\n",
    "print('The correlation of the risk premia of the market and your stock is: ',round(model.score(x,y)**(1/2),4))\n",
    "print('The R-squared of the regression for the SCL is: ',round(model.score(x,y),3))\n",
    "print('The Adjused R-squared of the regression for the SCL is: ',round(1 - (1-model.score(x, y))*(len(y)-1)/(len(y)-x.shape[1]-1),3))\n",
    "print('The standard error of the regression is: ',round(res.scale**.5,5))\n",
    "print('The t-test value of the beta is: ',round((res.params[1]-1)/res.bse[1],3))"
   ]
  },
  {
   "cell_type": "code",
   "execution_count": 32,
   "id": "d92071a3",
   "metadata": {},
   "outputs": [
    {
     "data": {
      "text/html": [
       "<div>\n",
       "<style scoped>\n",
       "    .dataframe tbody tr th:only-of-type {\n",
       "        vertical-align: middle;\n",
       "    }\n",
       "\n",
       "    .dataframe tbody tr th {\n",
       "        vertical-align: top;\n",
       "    }\n",
       "\n",
       "    .dataframe thead th {\n",
       "        text-align: right;\n",
       "    }\n",
       "</style>\n",
       "<table border=\"1\" class=\"dataframe\">\n",
       "  <thead>\n",
       "    <tr style=\"text-align: right;\">\n",
       "      <th></th>\n",
       "      <th>ADSK</th>\n",
       "      <th>CTSH</th>\n",
       "      <th>HPE</th>\n",
       "      <th>^IRX</th>\n",
       "    </tr>\n",
       "    <tr>\n",
       "      <th>Date</th>\n",
       "      <th></th>\n",
       "      <th></th>\n",
       "      <th></th>\n",
       "      <th></th>\n",
       "    </tr>\n",
       "  </thead>\n",
       "  <tbody>\n",
       "    <tr>\n",
       "      <th>2011-01-01</th>\n",
       "      <td>40.680000</td>\n",
       "      <td>36.474998</td>\n",
       "      <td>NaN</td>\n",
       "      <td>0.145</td>\n",
       "    </tr>\n",
       "    <tr>\n",
       "      <th>2011-02-01</th>\n",
       "      <td>42.049999</td>\n",
       "      <td>38.435001</td>\n",
       "      <td>NaN</td>\n",
       "      <td>0.135</td>\n",
       "    </tr>\n",
       "    <tr>\n",
       "      <th>2011-03-01</th>\n",
       "      <td>44.110001</td>\n",
       "      <td>40.700001</td>\n",
       "      <td>NaN</td>\n",
       "      <td>0.090</td>\n",
       "    </tr>\n",
       "    <tr>\n",
       "      <th>2011-04-01</th>\n",
       "      <td>44.980000</td>\n",
       "      <td>41.450001</td>\n",
       "      <td>NaN</td>\n",
       "      <td>0.040</td>\n",
       "    </tr>\n",
       "    <tr>\n",
       "      <th>2011-05-01</th>\n",
       "      <td>42.980000</td>\n",
       "      <td>38.020000</td>\n",
       "      <td>NaN</td>\n",
       "      <td>0.040</td>\n",
       "    </tr>\n",
       "  </tbody>\n",
       "</table>\n",
       "</div>"
      ],
      "text/plain": [
       "                 ADSK       CTSH  HPE   ^IRX\n",
       "Date                                        \n",
       "2011-01-01  40.680000  36.474998  NaN  0.145\n",
       "2011-02-01  42.049999  38.435001  NaN  0.135\n",
       "2011-03-01  44.110001  40.700001  NaN  0.090\n",
       "2011-04-01  44.980000  41.450001  NaN  0.040\n",
       "2011-05-01  42.980000  38.020000  NaN  0.040"
      ]
     },
     "execution_count": 32,
     "metadata": {},
     "output_type": "execute_result"
    }
   ],
   "source": [
    "comps.dropna(axis=0,how='all',inplace=True)\n",
    "comps = pd.DataFrame(comps)\n",
    "comps = pd.DataFrame(comps['Close'])\n",
    "comps[:5]"
   ]
  },
  {
   "cell_type": "code",
   "execution_count": 33,
   "id": "2c81e3be",
   "metadata": {},
   "outputs": [],
   "source": [
    "comp2_ret = comps[f'{comp2}'].pct_change()\n",
    "comp3_ret = comps[f'{comp3}'].pct_change()\n",
    "comp4_ret = comps[f'{comp4}'].pct_change()\n",
    "mark_ret = comps['^IRX'].pct_change()"
   ]
  },
  {
   "cell_type": "code",
   "execution_count": 34,
   "id": "874f726c",
   "metadata": {},
   "outputs": [
    {
     "data": {
      "image/png": "[encoded data removed]",
      "text/plain": [
       "<Figure size 720x720 with 1 Axes>"
      ]
     },
     "metadata": {
      "needs_background": "light"
     },
     "output_type": "display_data"
    }
   ],
   "source": [
    "plt.figure(figsize=(10, 10))\n",
    "ax = plt.subplot(111)\n",
    "ax.plot(x, y, 'o')\n",
    "#predicted?\n",
    "ax.set_title('Stock Premia vs. Market Premia with the SCL')\n",
    "ax.set_xlabel('Market Premia')\n",
    "ax.set_ylabel('Stock Premia')\n",
    "ax.set_xlim([-.25,.25])\n",
    "plt.show()"
   ]
  },
  {
   "cell_type": "code",
   "execution_count": 35,
   "id": "7b371b4f",
   "metadata": {},
   "outputs": [],
   "source": [
    "comps['^IRX'] = comps['^IRX']/100"
   ]
  },
  {
   "cell_type": "code",
   "execution_count": 36,
   "id": "48410995",
   "metadata": {},
   "outputs": [],
   "source": [
    "comps['Comp2 Returns'] = comp2_ret\n",
    "comps['Comp3 Returns'] = comp3_ret\n",
    "comps['Comp4 Returns'] = comp4_ret\n",
    "comps['Market Returns'] = mark_ret\n",
    "comps['Comp2 Returns'] = comps['Comp2 Returns'].apply(lambda x: float(x))\n",
    "comps['Comp3 Returns'] = comps['Comp3 Returns'].apply(lambda x: float(x))\n",
    "comps['Comp4 Returns'] = comps['Comp4 Returns'].apply(lambda x: float(x))\n",
    "comps['Market Returns'] = comps['Market Returns'].apply(lambda x: float(x))\n",
    "comps['^IRX'] = comps['^IRX'].apply(lambda x: float(x))"
   ]
  },
  {
   "cell_type": "code",
   "execution_count": 37,
   "id": "2bf87678",
   "metadata": {},
   "outputs": [
    {
     "data": {
      "text/html": [
       "<div>\n",
       "<style scoped>\n",
       "    .dataframe tbody tr th:only-of-type {\n",
       "        vertical-align: middle;\n",
       "    }\n",
       "\n",
       "    .dataframe tbody tr th {\n",
       "        vertical-align: top;\n",
       "    }\n",
       "\n",
       "    .dataframe thead th {\n",
       "        text-align: right;\n",
       "    }\n",
       "</style>\n",
       "<table border=\"1\" class=\"dataframe\">\n",
       "  <thead>\n",
       "    <tr style=\"text-align: right;\">\n",
       "      <th></th>\n",
       "      <th>ADSK</th>\n",
       "      <th>CTSH</th>\n",
       "      <th>HPE</th>\n",
       "      <th>^IRX</th>\n",
       "      <th>Comp2 Returns</th>\n",
       "      <th>Comp3 Returns</th>\n",
       "      <th>Comp4 Returns</th>\n",
       "      <th>Market Returns</th>\n",
       "      <th>Comp2 Premia</th>\n",
       "      <th>Comp3 Premia</th>\n",
       "      <th>Comp4 Premia</th>\n",
       "      <th>Market Premia</th>\n",
       "    </tr>\n",
       "    <tr>\n",
       "      <th>Date</th>\n",
       "      <th></th>\n",
       "      <th></th>\n",
       "      <th></th>\n",
       "      <th></th>\n",
       "      <th></th>\n",
       "      <th></th>\n",
       "      <th></th>\n",
       "      <th></th>\n",
       "      <th></th>\n",
       "      <th></th>\n",
       "      <th></th>\n",
       "      <th></th>\n",
       "    </tr>\n",
       "  </thead>\n",
       "  <tbody>\n",
       "    <tr>\n",
       "      <th>2011-01-01</th>\n",
       "      <td>40.680000</td>\n",
       "      <td>36.474998</td>\n",
       "      <td>NaN</td>\n",
       "      <td>0.00145</td>\n",
       "      <td>NaN</td>\n",
       "      <td>NaN</td>\n",
       "      <td>NaN</td>\n",
       "      <td>NaN</td>\n",
       "      <td>NaN</td>\n",
       "      <td>NaN</td>\n",
       "      <td>NaN</td>\n",
       "      <td>NaN</td>\n",
       "    </tr>\n",
       "    <tr>\n",
       "      <th>2011-02-01</th>\n",
       "      <td>42.049999</td>\n",
       "      <td>38.435001</td>\n",
       "      <td>NaN</td>\n",
       "      <td>0.00135</td>\n",
       "      <td>0.053736</td>\n",
       "      <td>NaN</td>\n",
       "      <td>0.033677</td>\n",
       "      <td>-0.068965</td>\n",
       "      <td>0.052386</td>\n",
       "      <td>NaN</td>\n",
       "      <td>0.032327</td>\n",
       "      <td>-0.070315</td>\n",
       "    </tr>\n",
       "    <tr>\n",
       "      <th>2011-03-01</th>\n",
       "      <td>44.110001</td>\n",
       "      <td>40.700001</td>\n",
       "      <td>NaN</td>\n",
       "      <td>0.00090</td>\n",
       "      <td>0.058931</td>\n",
       "      <td>NaN</td>\n",
       "      <td>0.048989</td>\n",
       "      <td>-0.333333</td>\n",
       "      <td>0.058031</td>\n",
       "      <td>NaN</td>\n",
       "      <td>0.048089</td>\n",
       "      <td>-0.334233</td>\n",
       "    </tr>\n",
       "    <tr>\n",
       "      <th>2011-04-01</th>\n",
       "      <td>44.980000</td>\n",
       "      <td>41.450001</td>\n",
       "      <td>NaN</td>\n",
       "      <td>0.00040</td>\n",
       "      <td>0.018428</td>\n",
       "      <td>NaN</td>\n",
       "      <td>0.019723</td>\n",
       "      <td>-0.555556</td>\n",
       "      <td>0.018028</td>\n",
       "      <td>NaN</td>\n",
       "      <td>0.019323</td>\n",
       "      <td>-0.555956</td>\n",
       "    </tr>\n",
       "    <tr>\n",
       "      <th>2011-05-01</th>\n",
       "      <td>42.980000</td>\n",
       "      <td>38.020000</td>\n",
       "      <td>NaN</td>\n",
       "      <td>0.00040</td>\n",
       "      <td>-0.082750</td>\n",
       "      <td>NaN</td>\n",
       "      <td>-0.044464</td>\n",
       "      <td>0.000000</td>\n",
       "      <td>-0.083150</td>\n",
       "      <td>NaN</td>\n",
       "      <td>-0.044864</td>\n",
       "      <td>-0.000400</td>\n",
       "    </tr>\n",
       "  </tbody>\n",
       "</table>\n",
       "</div>"
      ],
      "text/plain": [
       "                 ADSK       CTSH  HPE     ^IRX  Comp2 Returns  Comp3 Returns  \\\n",
       "Date                                                                           \n",
       "2011-01-01  40.680000  36.474998  NaN  0.00145            NaN            NaN   \n",
       "2011-02-01  42.049999  38.435001  NaN  0.00135       0.053736            NaN   \n",
       "2011-03-01  44.110001  40.700001  NaN  0.00090       0.058931            NaN   \n",
       "2011-04-01  44.980000  41.450001  NaN  0.00040       0.018428            NaN   \n",
       "2011-05-01  42.980000  38.020000  NaN  0.00040      -0.082750            NaN   \n",
       "\n",
       "            Comp4 Returns  Market Returns  Comp2 Premia  Comp3 Premia  \\\n",
       "Date                                                                    \n",
       "2011-01-01            NaN             NaN           NaN           NaN   \n",
       "2011-02-01       0.033677       -0.068965      0.052386           NaN   \n",
       "2011-03-01       0.048989       -0.333333      0.058031           NaN   \n",
       "2011-04-01       0.019723       -0.555556      0.018028           NaN   \n",
       "2011-05-01      -0.044464        0.000000     -0.083150           NaN   \n",
       "\n",
       "            Comp4 Premia  Market Premia  \n",
       "Date                                     \n",
       "2011-01-01           NaN            NaN  \n",
       "2011-02-01      0.032327      -0.070315  \n",
       "2011-03-01      0.048089      -0.334233  \n",
       "2011-04-01      0.019323      -0.555956  \n",
       "2011-05-01     -0.044864      -0.000400  "
      ]
     },
     "execution_count": 37,
     "metadata": {},
     "output_type": "execute_result"
    }
   ],
   "source": [
    "comps['Comp2 Premia'] = comps['Comp2 Returns'] - comps['^IRX']\n",
    "comps['Comp3 Premia'] = comps['Comp3 Returns'] - comps['^IRX']\n",
    "comps['Comp4 Premia'] = comps['Comp4 Returns'] - comps['^IRX']\n",
    "comps['Market Premia'] = comps['Market Returns'] - comps['^IRX']\n",
    "comps.iloc[0:5]"
   ]
  },
  {
   "cell_type": "code",
   "execution_count": 38,
   "id": "7c56ef3d",
   "metadata": {},
   "outputs": [
    {
     "data": {
      "text/plain": [
       "<matplotlib.collections.PathCollection at 0x7f88a3fd7e80>"
      ]
     },
     "execution_count": 38,
     "metadata": {},
     "output_type": "execute_result"
    },
    {
     "data": {
      "image/png": "[encoded data removed]",
      "text/plain": [
       "<Figure size 432x288 with 1 Axes>"
      ]
     },
     "metadata": {
      "needs_background": "light"
     },
     "output_type": "display_data"
    }
   ],
   "source": [
    "#scatter plot for risk premium of the stock and the market risk premium.\n",
    "x = np.array(comps['Market Premia'][1:])\n",
    "y2 = np.array(comps['Comp2 Premia'][1:])\n",
    "plt.scatter(x,y2)"
   ]
  },
  {
   "cell_type": "code",
   "execution_count": 42,
   "id": "2e4fbc01",
   "metadata": {},
   "outputs": [
    {
     "data": {
      "text/plain": [
       "<matplotlib.collections.PathCollection at 0x7f88a43933a0>"
      ]
     },
     "execution_count": 42,
     "metadata": {},
     "output_type": "execute_result"
    },
    {
     "data": {
      "image/png": "[encoded data removed]",
      "text/plain": [
       "<Figure size 432x288 with 1 Axes>"
      ]
     },
     "metadata": {
      "needs_background": "light"
     },
     "output_type": "display_data"
    }
   ],
   "source": [
    "#time series regression with summary statistics\n",
    "x = np.array(comps['Market Premia'][1:])\n",
    "y3 = np.array(comps['Comp3 Premia'][1:])\n",
    "plt.scatter(x,y3)"
   ]
  },
  {
   "cell_type": "code",
   "execution_count": 43,
   "id": "e60a6e28",
   "metadata": {},
   "outputs": [
    {
     "data": {
      "text/plain": [
       "<matplotlib.collections.PathCollection at 0x7f88a43f6310>"
      ]
     },
     "execution_count": 43,
     "metadata": {},
     "output_type": "execute_result"
    },
    {
     "data": {
      "image/png": "[encoded data removed]",
      "text/plain": [
       "<Figure size 432x288 with 1 Axes>"
      ]
     },
     "metadata": {
      "needs_background": "light"
     },
     "output_type": "display_data"
    }
   ],
   "source": [
    "#scatter plot for risk premium of the stock and the market risk premium.\n",
    "x = np.array(comps['Market Premia'][1:])\n",
    "y4 = np.array(comps['Comp4 Premia'][1:])\n",
    "plt.scatter(x,y4)"
   ]
  },
  {
   "cell_type": "code",
   "execution_count": 44,
   "id": "d8b08dc8",
   "metadata": {},
   "outputs": [
    {
     "name": "stdout",
     "output_type": "stream",
     "text": [
      "                            OLS Regression Results                            \n",
      "==============================================================================\n",
      "Dep. Variable:                     y2   R-squared:                       0.029\n",
      "Model:                            OLS   Adj. R-squared:                  0.021\n",
      "Method:                 Least Squares   F-statistic:                     3.477\n",
      "Date:                Sun, 07 Nov 2021   Prob (F-statistic):             0.0647\n",
      "Time:                        14:05:20   Log-Likelihood:                 134.82\n",
      "No. Observations:                 119   AIC:                            -265.6\n",
      "Df Residuals:                     117   BIC:                            -260.1\n",
      "Df Model:                           1                                         \n",
      "Covariance Type:            nonrobust                                         \n",
      "==============================================================================\n",
      "                 coef    std err          t      P>|t|      [0.025      0.975]\n",
      "------------------------------------------------------------------------------\n",
      "Intercept      0.0010      0.007      0.131      0.896      -0.014       0.016\n",
      "x              0.0073      0.004      1.865      0.065      -0.000       0.015\n",
      "==============================================================================\n",
      "Omnibus:                        2.924   Durbin-Watson:                   2.305\n",
      "Prob(Omnibus):                  0.232   Jarque-Bera (JB):                3.001\n",
      "Skew:                           0.005   Prob(JB):                        0.223\n",
      "Kurtosis:                       3.778   Cond. No.                         1.98\n",
      "==============================================================================\n",
      "\n",
      "Notes:\n",
      "[1] Standard Errors assume that the covariance matrix of the errors is correctly specified.\n"
     ]
    },
    {
     "data": {
      "text/plain": [
       "0.007301091619806932"
      ]
     },
     "execution_count": 44,
     "metadata": {},
     "output_type": "execute_result"
    }
   ],
   "source": [
    "#time series regression with summary statistics\n",
    "import statsmodels.formula.api as smf\n",
    "d2 = { \"x\": pd.Series(x), \"y2\": pd.Series(y2)}\n",
    "df2 = pd.DataFrame(d2)\n",
    "mod = smf.ols('y2 ~ x', data=df2)\n",
    "res = mod.fit()\n",
    "print(res.summary())\n",
    "coef2= res.params[1]\n",
    "coef2"
   ]
  },
  {
   "cell_type": "code",
   "execution_count": 45,
   "id": "0a71acc8",
   "metadata": {},
   "outputs": [
    {
     "name": "stdout",
     "output_type": "stream",
     "text": [
      "                            OLS Regression Results                            \n",
      "==============================================================================\n",
      "Dep. Variable:                     y3   R-squared:                       0.004\n",
      "Model:                            OLS   Adj. R-squared:                 -0.013\n",
      "Method:                 Least Squares   F-statistic:                    0.2221\n",
      "Date:                Sun, 07 Nov 2021   Prob (F-statistic):              0.639\n",
      "Time:                        14:05:26   Log-Likelihood:                 57.341\n",
      "No. Observations:                  61   AIC:                            -110.7\n",
      "Df Residuals:                      59   BIC:                            -106.5\n",
      "Df Model:                           1                                         \n",
      "Covariance Type:            nonrobust                                         \n",
      "==============================================================================\n",
      "                 coef    std err          t      P>|t|      [0.025      0.975]\n",
      "------------------------------------------------------------------------------\n",
      "Intercept     -0.0023      0.012     -0.181      0.857      -0.027       0.023\n",
      "x              0.0165      0.035      0.471      0.639      -0.054       0.087\n",
      "==============================================================================\n",
      "Omnibus:                       16.156   Durbin-Watson:                   2.025\n",
      "Prob(Omnibus):                  0.000   Jarque-Bera (JB):               24.247\n",
      "Skew:                           0.937   Prob(JB):                     5.43e-06\n",
      "Kurtosis:                       5.456   Cond. No.                         2.86\n",
      "==============================================================================\n",
      "\n",
      "Notes:\n",
      "[1] Standard Errors assume that the covariance matrix of the errors is correctly specified.\n"
     ]
    },
    {
     "data": {
      "text/plain": [
       "0.016544890653059523"
      ]
     },
     "execution_count": 45,
     "metadata": {},
     "output_type": "execute_result"
    }
   ],
   "source": [
    "#time series regression with summary statistics\n",
    "import statsmodels.formula.api as smf\n",
    "d3 = { \"x\": pd.Series(x), \"y3\": pd.Series(y3)}\n",
    "df3 = pd.DataFrame(d3)\n",
    "mod = smf.ols('y3 ~ x', data=df3)\n",
    "res = mod.fit()\n",
    "print(res.summary())\n",
    "coef3= res.params[1]\n",
    "coef3"
   ]
  },
  {
   "cell_type": "code",
   "execution_count": 46,
   "id": "22f4a6ec",
   "metadata": {},
   "outputs": [
    {
     "name": "stdout",
     "output_type": "stream",
     "text": [
      "                            OLS Regression Results                            \n",
      "==============================================================================\n",
      "Dep. Variable:                     y4   R-squared:                       0.038\n",
      "Model:                            OLS   Adj. R-squared:                  0.030\n",
      "Method:                 Least Squares   F-statistic:                     4.669\n",
      "Date:                Sun, 07 Nov 2021   Prob (F-statistic):             0.0327\n",
      "Time:                        14:05:29   Log-Likelihood:                 110.59\n",
      "No. Observations:                 119   AIC:                            -217.2\n",
      "Df Residuals:                     117   BIC:                            -211.6\n",
      "Df Model:                           1                                         \n",
      "Covariance Type:            nonrobust                                         \n",
      "==============================================================================\n",
      "                 coef    std err          t      P>|t|      [0.025      0.975]\n",
      "------------------------------------------------------------------------------\n",
      "Intercept      0.0115      0.009      1.267      0.208      -0.006       0.029\n",
      "x              0.0104      0.005      2.161      0.033       0.001       0.020\n",
      "==============================================================================\n",
      "Omnibus:                        0.104   Durbin-Watson:                   2.117\n",
      "Prob(Omnibus):                  0.949   Jarque-Bera (JB):                0.271\n",
      "Skew:                          -0.013   Prob(JB):                        0.873\n",
      "Kurtosis:                       2.767   Cond. No.                         1.98\n",
      "==============================================================================\n",
      "\n",
      "Notes:\n",
      "[1] Standard Errors assume that the covariance matrix of the errors is correctly specified.\n"
     ]
    },
    {
     "data": {
      "text/plain": [
       "0.010371270637139295"
      ]
     },
     "execution_count": 46,
     "metadata": {},
     "output_type": "execute_result"
    }
   ],
   "source": [
    "#time series regression with summary statistics\n",
    "import statsmodels.formula.api as smf\n",
    "d4 = { \"x\": pd.Series(x), \"y4\": pd.Series(y4)}\n",
    "df4 = pd.DataFrame(d4)\n",
    "mod = smf.ols('y4 ~ x', data=df4)\n",
    "res = mod.fit()\n",
    "print(res.summary())\n",
    "coef4= res.params[1]\n",
    "coef4"
   ]
  },
  {
   "cell_type": "code",
   "execution_count": 47,
   "id": "31369b8a",
   "metadata": {},
   "outputs": [
    {
     "name": "stdout",
     "output_type": "stream",
     "text": [
      "0.007301091619806932 0.016544890653059523 0.010371270637139295\n"
     ]
    }
   ],
   "source": [
    "print(coef2, coef3, coef4)"
   ]
  },
  {
   "cell_type": "code",
   "execution_count": 48,
   "id": "445519f8",
   "metadata": {},
   "outputs": [
    {
     "name": "stdout",
     "output_type": "stream",
     "text": [
      "The unlevered beta for comp 1 is  0.00505695\n"
     ]
    }
   ],
   "source": [
    "#unlever comp 1\n",
    "unleveredbetac1= coef2/(1+(1-tax_rate)*deratio2)\n",
    "print(\"The unlevered beta for comp 1 is \", round(unleveredbetac1,8))"
   ]
  },
  {
   "cell_type": "code",
   "execution_count": 49,
   "id": "a45dbf72",
   "metadata": {},
   "outputs": [],
   "source": [
    "tax_rate=0.21"
   ]
  },
  {
   "cell_type": "code",
   "execution_count": 50,
   "id": "945d60fc",
   "metadata": {},
   "outputs": [
    {
     "name": "stdout",
     "output_type": "stream",
     "text": [
      "The unlevered beta for comp 2 is  0.00578273\n"
     ]
    }
   ],
   "source": [
    "#unlever comp2\n",
    "unleveredbetac2= coef3/(1+(1-tax_rate)*deratio3)\n",
    "print(\"The unlevered beta for comp 2 is \", round(unleveredbetac2,8))"
   ]
  },
  {
   "cell_type": "code",
   "execution_count": 51,
   "id": "491f07ea",
   "metadata": {},
   "outputs": [
    {
     "name": "stdout",
     "output_type": "stream",
     "text": [
      "The unlevered beta is  0.00168186\n"
     ]
    }
   ],
   "source": [
    "#unlever comp 3\n",
    "unleveredbetac3= coef4/(1+(1-tax_rate)*deratio4)\n",
    "print(\"The unlevered beta is \", round(unleveredbetac3,8))"
   ]
  },
  {
   "cell_type": "code",
   "execution_count": 52,
   "id": "9524a928",
   "metadata": {},
   "outputs": [
    {
     "name": "stdout",
     "output_type": "stream",
     "text": [
      "The comparative beta is  0.00417385\n"
     ]
    }
   ],
   "source": [
    "compbeta_list = [unleveredbetac1, unleveredbetac2, unleveredbetac3]\n",
    "compbeta = sum(compbeta_list)/len(compbeta_list)\n",
    "print(\"The comparative beta is \", round(compbeta,8))"
   ]
  },
  {
   "cell_type": "code",
   "execution_count": 53,
   "id": "995744fb",
   "metadata": {},
   "outputs": [
    {
     "name": "stdout",
     "output_type": "stream",
     "text": [
      "The equity beta is  0.0192213\n"
     ]
    }
   ],
   "source": [
    "#calculate relevered beta\n",
    "equitybeta= compbeta *(1+(1-tax_rate)*deratio)\n",
    "print(\"The equity beta is \", round(equitybeta,8))"
   ]
  },
  {
   "cell_type": "code",
   "execution_count": 54,
   "id": "6c7094e0",
   "metadata": {},
   "outputs": [
    {
     "name": "stdout",
     "output_type": "stream",
     "text": [
      "The cost of equity is  5.0\n"
     ]
    }
   ],
   "source": [
    "#calculate cost of equity\n",
    "costequity= riskfree + (equitybeta*(marketreturn-riskfree))\n",
    "print(\"The cost of equity is \", costequity)\n"
   ]
  },
  {
   "cell_type": "code",
   "execution_count": null,
   "id": "6b0500f2",
   "metadata": {},
   "outputs": [],
   "source": []
  },
  {
   "cell_type": "code",
   "execution_count": null,
   "id": "d5d73829",
   "metadata": {},
   "outputs": [],
   "source": []
  },
  {
   "cell_type": "code",
   "execution_count": null,
   "id": "1ef3b224",
   "metadata": {},
   "outputs": [],
   "source": []
  },
  {
   "cell_type": "code",
   "execution_count": null,
   "id": "2566d992",
   "metadata": {},
   "outputs": [],
   "source": []
  }
 ],
 "metadata": {
  "kernelspec": {
   "display_name": "Python 3 (ipykernel)",
   "language": "python",
   "name": "python3"
  },
  "language_info": {
   "codemirror_mode": {
    "name": "ipython",
    "version": 3
   },
   "file_extension": ".py",
   "mimetype": "text/x-python",
   "name": "python",
   "nbconvert_exporter": "python",
   "pygments_lexer": "ipython3",
   "version": "3.8.12"
  }
 },
 "nbformat": 4,
 "nbformat_minor": 5
}
